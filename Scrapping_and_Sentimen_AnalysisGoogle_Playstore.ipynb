{
  "nbformat": 4,
  "nbformat_minor": 0,
  "metadata": {
    "colab": {
      "name": "Scrapping and Sentimen AnalysisGoogle Playstore.ipynb",
      "provenance": [],
      "toc_visible": true,
      "include_colab_link": true
    },
    "kernelspec": {
      "name": "python3",
      "display_name": "Python 3"
    },
    "language_info": {
      "name": "python"
    }
  },
  "cells": [
    {
      "cell_type": "markdown",
      "metadata": {
        "id": "view-in-github",
        "colab_type": "text"
      },
      "source": [
        "<a href=\"https://colab.research.google.com/github/yudhapatria96/Scrape-and-Sentiment-Analysis-Google-Playstore-Review/blob/main/Scrapping_and_Sentimen_AnalysisGoogle_Playstore.ipynb\" target=\"_parent\"><img src=\"https://colab.research.google.com/assets/colab-badge.svg\" alt=\"Open In Colab\"/></a>"
      ]
    },
    {
      "cell_type": "markdown",
      "metadata": {
        "id": "PIWFU6Ma5_Cb"
      },
      "source": [
        "#Import Library"
      ]
    },
    {
      "cell_type": "code",
      "metadata": {
        "id": "9hPGLW3OBSkl",
        "colab": {
          "base_uri": "https://localhost:8080/"
        },
        "outputId": "0ac939e7-6765-4596-a8c9-2cc22e969a1c"
      },
      "source": [
        "  !pip install -qq google-play-scraper"
      ],
      "execution_count": null,
      "outputs": [
        {
          "output_type": "stream",
          "text": [
            "\u001b[?25l\r\u001b[K     |██████▎                         | 10 kB 17.8 MB/s eta 0:00:01\r\u001b[K     |████████████▋                   | 20 kB 14.0 MB/s eta 0:00:01\r\u001b[K     |███████████████████             | 30 kB 16.6 MB/s eta 0:00:01\r\u001b[K     |█████████████████████████▏      | 40 kB 18.5 MB/s eta 0:00:01\r\u001b[K     |███████████████████████████████▌| 51 kB 10.0 MB/s eta 0:00:01\r\u001b[K     |████████████████████████████████| 52 kB 786 kB/s \n",
            "\u001b[?25h  Building wheel for google-play-scraper (setup.py) ... \u001b[?25l\u001b[?25hdone\n"
          ],
          "name": "stdout"
        }
      ]
    },
    {
      "cell_type": "code",
      "metadata": {
        "id": "w5DkNeE1BW20"
      },
      "source": [
        "import json\n",
        "import pandas as pd\n",
        "\n",
        "import numpy as np\n",
        "import matplotlib.pyplot as plt\n",
        "\n",
        "import seaborn as sns\n",
        "import nltk\n",
        "nltk.download('punkt')\n",
        "from nltk.tokenize import word_tokenize\n",
        "import string\n",
        "\n",
        "from sklearn.model_selection import train_test_split \n",
        "\n",
        "from sklearn.feature_extraction.text import CountVectorizer\n",
        "from sklearn.naive_bayes import MultinomialNB\n",
        "from sklearn.metrics import f1_score, recall_score,precision_score, confusion_matrix\n",
        "\n",
        "  \n",
        "from tqdm import tqdm\n",
        "\n",
        "from pygments import highlight\n",
        "from pygments.lexers import JsonLexer\n",
        "from pygments.formatters import TerminalFormatter\n",
        "\n",
        "from google_play_scraper import Sort, reviews, app\n"
      ],
      "execution_count": null,
      "outputs": []
    },
    {
      "cell_type": "markdown",
      "metadata": {
        "id": "4dWkVHpv6Cmb"
      },
      "source": [
        "#Setup Google Drive"
      ]
    },
    {
      "cell_type": "code",
      "metadata": {
        "colab": {
          "base_uri": "https://localhost:8080/"
        },
        "id": "YxoLPtG64yBr",
        "outputId": "0228e716-23c3-4130-812f-d4be6da0c737"
      },
      "source": [
        "from google.colab import drive\n",
        "drive.mount('/content/gdrive', force_remount=True)\n",
        "path = \"gdrive/MyDrive/Semua Tentang Data/Google Playstore Review Scrape/\""
      ],
      "execution_count": null,
      "outputs": [
        {
          "output_type": "stream",
          "text": [
            "Mounted at /content/gdrive\n"
          ],
          "name": "stdout"
        }
      ]
    },
    {
      "cell_type": "markdown",
      "metadata": {
        "id": "9YbEpE3-6EGh"
      },
      "source": [
        "# Scrape Googel Playstore Reviews"
      ]
    },
    {
      "cell_type": "code",
      "metadata": {
        "id": "_qig7S8bBoE3"
      },
      "source": [
        "app_packages = [\n",
        "    'com.grabtaxi.passenger',\n",
        "    'com.gojek.app'   \n",
        "]"
      ],
      "execution_count": null,
      "outputs": []
    },
    {
      "cell_type": "code",
      "metadata": {
        "colab": {
          "base_uri": "https://localhost:8080/"
        },
        "id": "AIoOPTzDB8s4",
        "outputId": "56668066-1639-4e91-9452-a90b94b647da"
      },
      "source": [
        "app_infos = []\n",
        "\n",
        "for application in tqdm(app_packages):\n",
        "  info = app(application, lang='id', country='id')\n",
        "  del info['comments']\n",
        "  app_infos.append(info)"
      ],
      "execution_count": null,
      "outputs": [
        {
          "output_type": "stream",
          "text": [
            "100%|██████████| 2/2 [00:00<00:00,  3.47it/s]\n"
          ],
          "name": "stderr"
        }
      ]
    },
    {
      "cell_type": "code",
      "metadata": {
        "id": "Yl61b1E7CUfV"
      },
      "source": [
        "def print_json(json_object):\n",
        "  json_str = json.dumps(\n",
        "      json_object,\n",
        "      indent=2,\n",
        "      sort_keys = True,\n",
        "      default=str\n",
        "  )\n",
        "  print(highlight(json_str, JsonLexer(), TerminalFormatter()))"
      ],
      "execution_count": null,
      "outputs": []
    },
    {
      "cell_type": "code",
      "metadata": {
        "colab": {
          "base_uri": "https://localhost:8080/"
        },
        "id": "GB1YaHE-CsEp",
        "outputId": "0409f200-30cb-4cb1-b5d5-76491ec569fb"
      },
      "source": [
        "print_json(app_infos[0])"
      ],
      "execution_count": null,
      "outputs": [
        {
          "output_type": "stream",
          "text": [
            "{\n",
            "  \u001b[94m\"adSupported\"\u001b[39;49;00m: \u001b[34mnull\u001b[39;49;00m,\n",
            "  \u001b[94m\"androidVersion\"\u001b[39;49;00m: \u001b[33m\"5.0\"\u001b[39;49;00m,\n",
            "  \u001b[94m\"androidVersionText\"\u001b[39;49;00m: \u001b[33m\"5.0 dan yang lebih tinggi\"\u001b[39;49;00m,\n",
            "  \u001b[94m\"appId\"\u001b[39;49;00m: \u001b[33m\"com.grabtaxi.passenger\"\u001b[39;49;00m,\n",
            "  \u001b[94m\"containsAds\"\u001b[39;49;00m: \u001b[34mfalse\u001b[39;49;00m,\n",
            "  \u001b[94m\"contentRating\"\u001b[39;49;00m: \u001b[33m\"Rating 3+\"\u001b[39;49;00m,\n",
            "  \u001b[94m\"contentRatingDescription\"\u001b[39;49;00m: \u001b[34mnull\u001b[39;49;00m,\n",
            "  \u001b[94m\"currency\"\u001b[39;49;00m: \u001b[33m\"IDR\"\u001b[39;49;00m,\n",
            "  \u001b[94m\"description\"\u001b[39;49;00m: \u001b[33m\"Grab adalah aplikasi super terkemuka di Asia Tenggara. Kami menawarkan layanan esensial untuk kebutuhan sehari-hari ke lebih dari 670 juta orang di Singapura, Indonesia, Malaysia, Thailand, Filipina, Vietnam, Kamboja, dan Myanmar. Layanan esensial ini terdiri dari Pengiriman (makanan, belanjaan, paket), Transportasi (roda 4, roda 3, roda 2), Keuangan (pinjaman, asuransi, pembayaran nontunai, manajemen harta), Usaha, dan Lain-lain. Misi kami adalah memajukan Asia Tenggara dengan melakukan pemberdayaan ekonomi untuk semua orang di wilayah ini.\\r\\n\\r\\n\\r\\nPengiriman makanan yang memenuhi keinginanmu\\r\\nGrabFood: Pesan dari restoran favoritmu dan makanan akan dikirim langsung ke rumahmu\\r\\n\\r\\nPengiriman belanjaan yang mudah dengan jangkauan luas\\r\\nGrabMart: Pilih berbagai macam belanjaan dan produk segar. Pesanan akan diantar dari toko ke tempatmu dalam satu jam atau sesuai jadwal yang kamu buat\\r\\n\\r\\nPesan kendaraan untuk setiap kesempatan dan anggaran\\r\\nPilih dari berbagai jenis moda transportasi, mulai dari motor, mobil, hingga bus\\r\\n\\r\\nPembayaran tanpa tunai yang aman dan praktis\\r\\nOVO: Dompet digital yang aman dan mudah digunakan untuk membayar layanan Grab dan mitra merchant lokal.\\r\\n\\r\\nPengiriman paket sesuai pesanan yang dapat diandalkan\\r\\nGrabExpress: Layanan kurir yang terjangkau, cepat, dan dapat diandalkan, dilengkapi dengan asuransi untuk barangmu\\r\\n\\r\\nHadiah untuk pemakaian Grab\\r\\nGrabRewards: Dapatkan poin hadiah untuk setiap rupiah yang kamu pakai dan tukar poinmu dengan kupon diskon di katalog GrabRewards\\r\\n\\r\\nTemukan lebih banyak tentang kami di www.grab.com. Kami memungkinkan kamu untuk menerima iklan yang dipersonalisasi, penawaran, dan pembaruan dari Grab dan mitra kami, serta (komunikasi/iklan) dari aplikasi pihak ketiga tertentu berdasarkan aktivitas di perangkatmu. Kamu bisa menonaktifkan komunikasi/iklan di menu Manajemen Privasi dan Izin dalam Pengaturan di aplikasi. Untuk informasi lebih lanjut, lihat Kebijakan Privasi kami di www.grab.com/pivacy.\"\u001b[39;49;00m,\n",
            "  \u001b[94m\"descriptionHTML\"\u001b[39;49;00m: \u001b[33m\"Grab adalah aplikasi super terkemuka di Asia Tenggara. Kami menawarkan layanan esensial untuk kebutuhan sehari-hari ke lebih dari 670 juta orang di Singapura, Indonesia, Malaysia, Thailand, Filipina, Vietnam, Kamboja, dan Myanmar. Layanan esensial ini terdiri dari Pengiriman (makanan, belanjaan, paket), Transportasi (roda 4, roda 3, roda 2), Keuangan (pinjaman, asuransi, pembayaran nontunai, manajemen harta), Usaha, dan Lain-lain. Misi kami adalah memajukan Asia Tenggara dengan melakukan pemberdayaan ekonomi untuk semua orang di wilayah ini.<br><br><br>Pengiriman makanan yang memenuhi keinginanmu<br>GrabFood: Pesan dari restoran favoritmu dan makanan akan dikirim langsung ke rumahmu<br><br>Pengiriman belanjaan yang mudah dengan jangkauan luas<br>GrabMart: Pilih berbagai macam belanjaan dan produk segar. Pesanan akan diantar dari toko ke tempatmu dalam satu jam atau sesuai jadwal yang kamu buat<br><br>Pesan kendaraan untuk setiap kesempatan dan anggaran<br>Pilih dari berbagai jenis moda transportasi, mulai dari motor, mobil, hingga bus<br><br>Pembayaran tanpa tunai yang aman dan praktis<br>OVO: Dompet digital yang aman dan mudah digunakan untuk membayar layanan Grab dan mitra merchant lokal.<br><br>Pengiriman paket sesuai pesanan yang dapat diandalkan<br>GrabExpress: Layanan kurir yang terjangkau, cepat, dan dapat diandalkan, dilengkapi dengan asuransi untuk barangmu<br><br>Hadiah untuk pemakaian Grab<br>GrabRewards: Dapatkan poin hadiah untuk setiap rupiah yang kamu pakai dan tukar poinmu dengan kupon diskon di katalog GrabRewards<br><br>Temukan lebih banyak tentang kami di www.grab.com. Kami memungkinkan kamu untuk menerima iklan yang dipersonalisasi, penawaran, dan pembaruan dari Grab dan mitra kami, serta (komunikasi/iklan) dari aplikasi pihak ketiga tertentu berdasarkan aktivitas di perangkatmu. Kamu bisa menonaktifkan komunikasi/iklan di menu Manajemen Privasi dan Izin dalam Pengaturan di aplikasi. Untuk informasi lebih lanjut, lihat Kebijakan Privasi kami di www.grab.com/pivacy.\"\u001b[39;49;00m,\n",
            "  \u001b[94m\"developer\"\u001b[39;49;00m: \u001b[33m\"Grab Holdings\"\u001b[39;49;00m,\n",
            "  \u001b[94m\"developerAddress\"\u001b[39;49;00m: \u001b[33m\"138 Cecil street,\\n#01-01 Cecil Court,\\nSingapore 069538.\"\u001b[39;49;00m,\n",
            "  \u001b[94m\"developerEmail\"\u001b[39;49;00m: \u001b[33m\"support@grab.com\"\u001b[39;49;00m,\n",
            "  \u001b[94m\"developerId\"\u001b[39;49;00m: \u001b[33m\"Grab+Holdings\"\u001b[39;49;00m,\n",
            "  \u001b[94m\"developerInternalID\"\u001b[39;49;00m: \u001b[33m\"5168046712271561093\"\u001b[39;49;00m,\n",
            "  \u001b[94m\"developerWebsite\"\u001b[39;49;00m: \u001b[33m\"https://grab.com \"\u001b[39;49;00m,\n",
            "  \u001b[94m\"editorsChoice\"\u001b[39;49;00m: \u001b[34mfalse\u001b[39;49;00m,\n",
            "  \u001b[94m\"free\"\u001b[39;49;00m: \u001b[34mtrue\u001b[39;49;00m,\n",
            "  \u001b[94m\"genre\"\u001b[39;49;00m: \u001b[33m\"Peta & Navigasi\"\u001b[39;49;00m,\n",
            "  \u001b[94m\"genreId\"\u001b[39;49;00m: \u001b[33m\"MAPS_AND_NAVIGATION\"\u001b[39;49;00m,\n",
            "  \u001b[94m\"headerImage\"\u001b[39;49;00m: \u001b[33m\"https://play-lh.googleusercontent.com/7sChIl4sQabpgd_4dfBm5o1-cUteVd1zukw_AwpfAEzfNrFxf5nXRHngAgLJFydlQQ\"\u001b[39;49;00m,\n",
            "  \u001b[94m\"histogram\"\u001b[39;49;00m: [\n",
            "    \u001b[34m505244\u001b[39;49;00m,\n",
            "    \u001b[34m105723\u001b[39;49;00m,\n",
            "    \u001b[34m196094\u001b[39;49;00m,\n",
            "    \u001b[34m572533\u001b[39;49;00m,\n",
            "    \u001b[34m5319473\u001b[39;49;00m\n",
            "  ],\n",
            "  \u001b[94m\"icon\"\u001b[39;49;00m: \u001b[33m\"https://play-lh.googleusercontent.com/fWXojoO5RNgOz-lOsT2RCwQcaR2CNDyJK5EZ8da8uxAY0lQYko5TTLq7pyCxRcja-0YZohO0iGqrI90U_GOE\"\u001b[39;49;00m,\n",
            "  \u001b[94m\"inAppProductPrice\"\u001b[39;49;00m: \u001b[34mnull\u001b[39;49;00m,\n",
            "  \u001b[94m\"installs\"\u001b[39;49;00m: \u001b[33m\"100.000.000+\"\u001b[39;49;00m,\n",
            "  \u001b[94m\"minInstalls\"\u001b[39;49;00m: \u001b[34m100000000\u001b[39;49;00m,\n",
            "  \u001b[94m\"offersIAP\"\u001b[39;49;00m: \u001b[34mfalse\u001b[39;49;00m,\n",
            "  \u001b[94m\"originalPrice\"\u001b[39;49;00m: \u001b[34mnull\u001b[39;49;00m,\n",
            "  \u001b[94m\"price\"\u001b[39;49;00m: \u001b[34m0\u001b[39;49;00m,\n",
            "  \u001b[94m\"privacyPolicy\"\u001b[39;49;00m: \u001b[33m\"https://www.grab.com/privacy\"\u001b[39;49;00m,\n",
            "  \u001b[94m\"ratings\"\u001b[39;49;00m: \u001b[34m6699067\u001b[39;49;00m,\n",
            "  \u001b[94m\"recentChanges\"\u001b[39;49;00m: \u001b[33m\"Iduladha dikenal sebagai \\\"\\\"hari raya kurban\\\"\\\". Umat Islam mengorbankan hewan seperti sapi, kambing, atau domba dan membagikan kepada yang membutuhkan. Hal ini merupakan pengingat bahwa Nabi Ibrahim mematuhi Tuhan untuk mengorbankan Ismail, tetapi Tuhan menyediakan domba sebagai gantinya.\\r\\n\\r\\nJangan korbankan kenyamananmu saat memesan GrabFood untuk merayakannya bersama keluarga di rumah \\u2014 update aplikasimu ke 5.159 sekarang untuk mengusir bug.\\r\\n\\r\\nSelamat Hari Raya Iduladha bagi teman-teman Muslim!\"\u001b[39;49;00m,\n",
            "  \u001b[94m\"recentChangesHTML\"\u001b[39;49;00m: \u001b[33m\"Iduladha dikenal sebagai &quot;&quot;hari raya kurban&quot;&quot;. Umat Islam mengorbankan hewan seperti sapi, kambing, atau domba dan membagikan kepada yang membutuhkan. Hal ini merupakan pengingat bahwa Nabi Ibrahim mematuhi Tuhan untuk mengorbankan Ismail, tetapi Tuhan menyediakan domba sebagai gantinya.<br><br>Jangan korbankan kenyamananmu saat memesan GrabFood untuk merayakannya bersama keluarga di rumah \\u2014 update aplikasimu ke 5.159 sekarang untuk mengusir bug.<br><br>Selamat Hari Raya Iduladha bagi teman-teman Muslim!\"\u001b[39;49;00m,\n",
            "  \u001b[94m\"released\"\u001b[39;49;00m: \u001b[33m\"30 Mei 2013\"\u001b[39;49;00m,\n",
            "  \u001b[94m\"reviews\"\u001b[39;49;00m: \u001b[34m2024792\u001b[39;49;00m,\n",
            "  \u001b[94m\"sale\"\u001b[39;49;00m: \u001b[34mfalse\u001b[39;49;00m,\n",
            "  \u001b[94m\"saleText\"\u001b[39;49;00m: \u001b[34mnull\u001b[39;49;00m,\n",
            "  \u001b[94m\"saleTime\"\u001b[39;49;00m: \u001b[34mnull\u001b[39;49;00m,\n",
            "  \u001b[94m\"score\"\u001b[39;49;00m: \u001b[34m4.5069656\u001b[39;49;00m,\n",
            "  \u001b[94m\"screenshots\"\u001b[39;49;00m: [\n",
            "    \u001b[33m\"https://play-lh.googleusercontent.com/kH7UtY5YXqpsghV8J70vuo9uNoecS9sYn6TCT6CXzg_wCsIaxNJli-e_7gbG88-OdIo\"\u001b[39;49;00m,\n",
            "    \u001b[33m\"https://play-lh.googleusercontent.com/rxY2RCq8yqMcwJN67OSgmlzo51BvqsfMuVfuP3wn5ZDmfqXQUHVx2RElBuUnTp9fekfJ\"\u001b[39;49;00m,\n",
            "    \u001b[33m\"https://play-lh.googleusercontent.com/yJVZV04-CHDt8-352HSTDioXuStU--SR2tGnCXlAc7Bzx5KrH_9De1iek1Z75YvCKVs\"\u001b[39;49;00m,\n",
            "    \u001b[33m\"https://play-lh.googleusercontent.com/zHMqc3LcvH2usamkImm_NvC97bfAXzCNvTvprbW_JR7Nv-Cp98BwqhDbxfZYEurzpg\"\u001b[39;49;00m,\n",
            "    \u001b[33m\"https://play-lh.googleusercontent.com/6WDH4_OLJhHanrOdEYLYmFJGpAzjMv1L09M4WKBlDrKWJmD-36G32UjXhCVYXowIrg\"\u001b[39;49;00m,\n",
            "    \u001b[33m\"https://play-lh.googleusercontent.com/U-TmeLVtT-VIH5YKq5VVWqyB5XOv86DR0MpcwwJbwtyIyHLU_FXr6L2-v0qq3UsCcfE\"\u001b[39;49;00m\n",
            "  ],\n",
            "  \u001b[94m\"size\"\u001b[39;49;00m: \u001b[33m\"173M\"\u001b[39;49;00m,\n",
            "  \u001b[94m\"summary\"\u001b[39;49;00m: \u001b[33m\"Aplikasi harianmu yang serba ada di Asia Tenggara\"\u001b[39;49;00m,\n",
            "  \u001b[94m\"summaryHTML\"\u001b[39;49;00m: \u001b[33m\"Aplikasi harianmu yang serba ada di Asia Tenggara\"\u001b[39;49;00m,\n",
            "  \u001b[94m\"title\"\u001b[39;49;00m: \u001b[33m\"Grab Superapp\"\u001b[39;49;00m,\n",
            "  \u001b[94m\"updated\"\u001b[39;49;00m: \u001b[34m1627292025\u001b[39;49;00m,\n",
            "  \u001b[94m\"url\"\u001b[39;49;00m: \u001b[33m\"https://play.google.com/store/apps/details?id=com.grabtaxi.passenger&hl=id&gl=id\"\u001b[39;49;00m,\n",
            "  \u001b[94m\"version\"\u001b[39;49;00m: \u001b[33m\"5.159.0\"\u001b[39;49;00m,\n",
            "  \u001b[94m\"video\"\u001b[39;49;00m: \u001b[34mnull\u001b[39;49;00m,\n",
            "  \u001b[94m\"videoImage\"\u001b[39;49;00m: \u001b[34mnull\u001b[39;49;00m\n",
            "}\n",
            "\n"
          ],
          "name": "stdout"
        }
      ]
    },
    {
      "cell_type": "code",
      "metadata": {
        "id": "OgA6mCSi3zCx"
      },
      "source": [
        "def format_title(title):\n",
        "  sep_index = title.find(':') if title.find(':') != -1 else title.find('-')\n",
        "  if sep_index != -1:\n",
        "    title = title[:sep_index]\n",
        "  return title[:10]\n"
      ],
      "execution_count": null,
      "outputs": []
    },
    {
      "cell_type": "code",
      "metadata": {
        "id": "uSUiJDxt4RM8"
      },
      "source": [
        "app_infos_df = pd.DataFrame(app_infos)\n",
        "app_infos_df.to_csv(path +'apps.csv', index =None, header= True)"
      ],
      "execution_count": null,
      "outputs": []
    },
    {
      "cell_type": "code",
      "metadata": {
        "colab": {
          "base_uri": "https://localhost:8080/"
        },
        "id": "dsZ_o9XW5M72",
        "outputId": "5aaed8f2-08c2-4a73-db9e-c1c2d5298c35"
      },
      "source": [
        "app_reviews = []\n",
        "\n",
        "for ap in tqdm(app_packages):\n",
        "  for score in list(range(1,6)):\n",
        "    for sort_order in [Sort.MOST_RELEVANT, Sort.NEWEST]:\n",
        "      rvs, _ = reviews(\n",
        "          ap,\n",
        "          lang='id',\n",
        "          country = 'id',\n",
        "          sort = sort_order,\n",
        "          count=200 if score == 3 else 100,\n",
        "          filter_score_with = score\n",
        "      )\n",
        "      for r in rvs:\n",
        "        r['sortOrder'] = 'most_relevant' if sort_order == Sort.MOST_RELEVANT else 'newest'\n",
        "        r['appId'] = ap\n",
        "      app_reviews.extend(rvs)"
      ],
      "execution_count": null,
      "outputs": [
        {
          "output_type": "stream",
          "text": [
            "100%|██████████| 2/2 [00:13<00:00,  6.90s/it]\n"
          ],
          "name": "stderr"
        }
      ]
    },
    {
      "cell_type": "code",
      "metadata": {
        "colab": {
          "base_uri": "https://localhost:8080/"
        },
        "id": "CniMK9mx53_p",
        "outputId": "0ea98a30-46f7-4765-df33-9ea4a501d150"
      },
      "source": [
        "print_json(app_reviews[0])"
      ],
      "execution_count": null,
      "outputs": [
        {
          "output_type": "stream",
          "text": [
            "{\n",
            "  \u001b[94m\"appId\"\u001b[39;49;00m: \u001b[33m\"com.grabtaxi.passenger\"\u001b[39;49;00m,\n",
            "  \u001b[94m\"at\"\u001b[39;49;00m: \u001b[33m\"2021-07-24 02:25:49\"\u001b[39;49;00m,\n",
            "  \u001b[94m\"content\"\u001b[39;49;00m: \u001b[33m\"Dulu, isi saldo itu kepotong langsung dari saldo ATM (ad Ket admin 1.000), sekarang tau2 kepotong dari saldo yg udh masuk, ngikut si Oren food.. alhasil gue jadi harus ngisi ovo lagi, dan kena biaya admin jadi 2x, nyesek bgt sumpah.. udh admin mahal, kadang Nemu driver yg bacot A-Z kalo pas pesen makanan bayar ditmpt, masa musti di telponin terus -_- bad bgt sih..\"\u001b[39;49;00m,\n",
            "  \u001b[94m\"repliedAt\"\u001b[39;49;00m: \u001b[33m\"2021-07-24 03:10:17\"\u001b[39;49;00m,\n",
            "  \u001b[94m\"replyContent\"\u001b[39;49;00m: \u001b[33m\"Maaf jd bikin gak nyaman ya Kak\\u2639\\ufe0f ,\\nUntuk penanganan kendala maupun pertanyaannya, agar lebih cepat ditangani bs Kakak sampaikan melalui DM atau Personal Message di:\\nTwitter: @GrabID, Facebook: Grab atau melalui Help Center pd aplikasi Grab ya.\\n\\nNantinya ada tim kami yang akan dgn senang hati bantu Kakak. Terima kasih\"\u001b[39;49;00m,\n",
            "  \u001b[94m\"reviewCreatedVersion\"\u001b[39;49;00m: \u001b[33m\"5.157.0\"\u001b[39;49;00m,\n",
            "  \u001b[94m\"reviewId\"\u001b[39;49;00m: \u001b[33m\"gp:AOqpTOGdPKr76-yIu-wFcp5RjnzA4vibyJLXiUkBsMlOWK7Uc_WVF-kPllWWwmICwZwyh0Ma0Q6I5cgZI-yGUbI\"\u001b[39;49;00m,\n",
            "  \u001b[94m\"score\"\u001b[39;49;00m: \u001b[34m1\u001b[39;49;00m,\n",
            "  \u001b[94m\"sortOrder\"\u001b[39;49;00m: \u001b[33m\"most_relevant\"\u001b[39;49;00m,\n",
            "  \u001b[94m\"thumbsUpCount\"\u001b[39;49;00m: \u001b[34m49\u001b[39;49;00m,\n",
            "  \u001b[94m\"userImage\"\u001b[39;49;00m: \u001b[33m\"https://play-lh.googleusercontent.com/a-/AOh14Gg7iyumO6ccVGz2DtRZAww5X6-b70nVU0x3piO0Zw\"\u001b[39;49;00m,\n",
            "  \u001b[94m\"userName\"\u001b[39;49;00m: \u001b[33m\"KENNYSIAH VLOG\"\u001b[39;49;00m\n",
            "}\n",
            "\n"
          ],
          "name": "stdout"
        }
      ]
    },
    {
      "cell_type": "code",
      "metadata": {
        "id": "kbef9CM66-cH"
      },
      "source": [
        "app_reviews_df = pd.DataFrame(app_reviews)\n",
        "\n",
        "app_reviews_df = app_reviews_df.sort_values([\"appId\",\"at\"])\n"
      ],
      "execution_count": null,
      "outputs": []
    },
    {
      "cell_type": "code",
      "metadata": {
        "id": "L_K0oobB4khm"
      },
      "source": [
        "app_reviews_df.to_csv(path+'hasilreviews.csv', index=None, header=True)"
      ],
      "execution_count": null,
      "outputs": []
    },
    {
      "cell_type": "code",
      "metadata": {
        "colab": {
          "base_uri": "https://localhost:8080/",
          "height": 424
        },
        "id": "TXn4k3K5D1xl",
        "outputId": "cdb08223-51fe-47cc-f250-c6d0e6edebe4"
      },
      "source": [
        "app_reviews_df.isnull()"
      ],
      "execution_count": null,
      "outputs": [
        {
          "output_type": "execute_result",
          "data": {
            "text/html": [
              "<div>\n",
              "<style scoped>\n",
              "    .dataframe tbody tr th:only-of-type {\n",
              "        vertical-align: middle;\n",
              "    }\n",
              "\n",
              "    .dataframe tbody tr th {\n",
              "        vertical-align: top;\n",
              "    }\n",
              "\n",
              "    .dataframe thead th {\n",
              "        text-align: right;\n",
              "    }\n",
              "</style>\n",
              "<table border=\"1\" class=\"dataframe\">\n",
              "  <thead>\n",
              "    <tr style=\"text-align: right;\">\n",
              "      <th></th>\n",
              "      <th>reviewId</th>\n",
              "      <th>userName</th>\n",
              "      <th>userImage</th>\n",
              "      <th>content</th>\n",
              "      <th>score</th>\n",
              "      <th>thumbsUpCount</th>\n",
              "      <th>reviewCreatedVersion</th>\n",
              "      <th>at</th>\n",
              "      <th>replyContent</th>\n",
              "      <th>repliedAt</th>\n",
              "      <th>sortOrder</th>\n",
              "      <th>appId</th>\n",
              "    </tr>\n",
              "  </thead>\n",
              "  <tbody>\n",
              "    <tr>\n",
              "      <th>1779</th>\n",
              "      <td>False</td>\n",
              "      <td>False</td>\n",
              "      <td>False</td>\n",
              "      <td>False</td>\n",
              "      <td>False</td>\n",
              "      <td>False</td>\n",
              "      <td>False</td>\n",
              "      <td>False</td>\n",
              "      <td>False</td>\n",
              "      <td>False</td>\n",
              "      <td>False</td>\n",
              "      <td>False</td>\n",
              "    </tr>\n",
              "    <tr>\n",
              "      <th>1775</th>\n",
              "      <td>False</td>\n",
              "      <td>False</td>\n",
              "      <td>False</td>\n",
              "      <td>False</td>\n",
              "      <td>False</td>\n",
              "      <td>False</td>\n",
              "      <td>False</td>\n",
              "      <td>False</td>\n",
              "      <td>False</td>\n",
              "      <td>False</td>\n",
              "      <td>False</td>\n",
              "      <td>False</td>\n",
              "    </tr>\n",
              "    <tr>\n",
              "      <th>1792</th>\n",
              "      <td>False</td>\n",
              "      <td>False</td>\n",
              "      <td>False</td>\n",
              "      <td>False</td>\n",
              "      <td>False</td>\n",
              "      <td>False</td>\n",
              "      <td>False</td>\n",
              "      <td>False</td>\n",
              "      <td>False</td>\n",
              "      <td>False</td>\n",
              "      <td>False</td>\n",
              "      <td>False</td>\n",
              "    </tr>\n",
              "    <tr>\n",
              "      <th>1754</th>\n",
              "      <td>False</td>\n",
              "      <td>False</td>\n",
              "      <td>False</td>\n",
              "      <td>False</td>\n",
              "      <td>False</td>\n",
              "      <td>False</td>\n",
              "      <td>False</td>\n",
              "      <td>False</td>\n",
              "      <td>False</td>\n",
              "      <td>False</td>\n",
              "      <td>False</td>\n",
              "      <td>False</td>\n",
              "    </tr>\n",
              "    <tr>\n",
              "      <th>1716</th>\n",
              "      <td>False</td>\n",
              "      <td>False</td>\n",
              "      <td>False</td>\n",
              "      <td>False</td>\n",
              "      <td>False</td>\n",
              "      <td>False</td>\n",
              "      <td>False</td>\n",
              "      <td>False</td>\n",
              "      <td>False</td>\n",
              "      <td>False</td>\n",
              "      <td>False</td>\n",
              "      <td>False</td>\n",
              "    </tr>\n",
              "    <tr>\n",
              "      <th>...</th>\n",
              "      <td>...</td>\n",
              "      <td>...</td>\n",
              "      <td>...</td>\n",
              "      <td>...</td>\n",
              "      <td>...</td>\n",
              "      <td>...</td>\n",
              "      <td>...</td>\n",
              "      <td>...</td>\n",
              "      <td>...</td>\n",
              "      <td>...</td>\n",
              "      <td>...</td>\n",
              "      <td>...</td>\n",
              "    </tr>\n",
              "    <tr>\n",
              "      <th>1102</th>\n",
              "      <td>False</td>\n",
              "      <td>False</td>\n",
              "      <td>False</td>\n",
              "      <td>False</td>\n",
              "      <td>False</td>\n",
              "      <td>False</td>\n",
              "      <td>False</td>\n",
              "      <td>False</td>\n",
              "      <td>True</td>\n",
              "      <td>True</td>\n",
              "      <td>False</td>\n",
              "      <td>False</td>\n",
              "    </tr>\n",
              "    <tr>\n",
              "      <th>1101</th>\n",
              "      <td>False</td>\n",
              "      <td>False</td>\n",
              "      <td>False</td>\n",
              "      <td>False</td>\n",
              "      <td>False</td>\n",
              "      <td>False</td>\n",
              "      <td>False</td>\n",
              "      <td>False</td>\n",
              "      <td>True</td>\n",
              "      <td>True</td>\n",
              "      <td>False</td>\n",
              "      <td>False</td>\n",
              "    </tr>\n",
              "    <tr>\n",
              "      <th>899</th>\n",
              "      <td>False</td>\n",
              "      <td>False</td>\n",
              "      <td>False</td>\n",
              "      <td>False</td>\n",
              "      <td>False</td>\n",
              "      <td>False</td>\n",
              "      <td>False</td>\n",
              "      <td>False</td>\n",
              "      <td>True</td>\n",
              "      <td>True</td>\n",
              "      <td>False</td>\n",
              "      <td>False</td>\n",
              "    </tr>\n",
              "    <tr>\n",
              "      <th>1100</th>\n",
              "      <td>False</td>\n",
              "      <td>False</td>\n",
              "      <td>False</td>\n",
              "      <td>False</td>\n",
              "      <td>False</td>\n",
              "      <td>False</td>\n",
              "      <td>False</td>\n",
              "      <td>False</td>\n",
              "      <td>True</td>\n",
              "      <td>True</td>\n",
              "      <td>False</td>\n",
              "      <td>False</td>\n",
              "    </tr>\n",
              "    <tr>\n",
              "      <th>1099</th>\n",
              "      <td>False</td>\n",
              "      <td>False</td>\n",
              "      <td>False</td>\n",
              "      <td>False</td>\n",
              "      <td>False</td>\n",
              "      <td>False</td>\n",
              "      <td>False</td>\n",
              "      <td>False</td>\n",
              "      <td>True</td>\n",
              "      <td>True</td>\n",
              "      <td>False</td>\n",
              "      <td>False</td>\n",
              "    </tr>\n",
              "  </tbody>\n",
              "</table>\n",
              "<p>2399 rows × 12 columns</p>\n",
              "</div>"
            ],
            "text/plain": [
              "      reviewId  userName  userImage  ...  repliedAt  sortOrder  appId\n",
              "1779     False     False      False  ...      False      False  False\n",
              "1775     False     False      False  ...      False      False  False\n",
              "1792     False     False      False  ...      False      False  False\n",
              "1754     False     False      False  ...      False      False  False\n",
              "1716     False     False      False  ...      False      False  False\n",
              "...        ...       ...        ...  ...        ...        ...    ...\n",
              "1102     False     False      False  ...       True      False  False\n",
              "1101     False     False      False  ...       True      False  False\n",
              "899      False     False      False  ...       True      False  False\n",
              "1100     False     False      False  ...       True      False  False\n",
              "1099     False     False      False  ...       True      False  False\n",
              "\n",
              "[2399 rows x 12 columns]"
            ]
          },
          "metadata": {
            "tags": []
          },
          "execution_count": 14
        }
      ]
    },
    {
      "cell_type": "markdown",
      "metadata": {
        "id": "EhEJMBif6Nzp"
      },
      "source": [
        "#Monthly Average Rating"
      ]
    },
    {
      "cell_type": "code",
      "metadata": {
        "colab": {
          "base_uri": "https://localhost:8080/",
          "height": 424
        },
        "id": "F1emXIW1D_33",
        "outputId": "322fafef-4a03-48a1-cb9d-3f23369460cb"
      },
      "source": [
        "app_reviews_df.fillna(\"No Replay\", inplace=True)\n",
        "app_reviews_df.isnull()"
      ],
      "execution_count": null,
      "outputs": [
        {
          "output_type": "execute_result",
          "data": {
            "text/html": [
              "<div>\n",
              "<style scoped>\n",
              "    .dataframe tbody tr th:only-of-type {\n",
              "        vertical-align: middle;\n",
              "    }\n",
              "\n",
              "    .dataframe tbody tr th {\n",
              "        vertical-align: top;\n",
              "    }\n",
              "\n",
              "    .dataframe thead th {\n",
              "        text-align: right;\n",
              "    }\n",
              "</style>\n",
              "<table border=\"1\" class=\"dataframe\">\n",
              "  <thead>\n",
              "    <tr style=\"text-align: right;\">\n",
              "      <th></th>\n",
              "      <th>reviewId</th>\n",
              "      <th>userName</th>\n",
              "      <th>userImage</th>\n",
              "      <th>content</th>\n",
              "      <th>score</th>\n",
              "      <th>thumbsUpCount</th>\n",
              "      <th>reviewCreatedVersion</th>\n",
              "      <th>at</th>\n",
              "      <th>replyContent</th>\n",
              "      <th>repliedAt</th>\n",
              "      <th>sortOrder</th>\n",
              "      <th>appId</th>\n",
              "    </tr>\n",
              "  </thead>\n",
              "  <tbody>\n",
              "    <tr>\n",
              "      <th>1779</th>\n",
              "      <td>False</td>\n",
              "      <td>False</td>\n",
              "      <td>False</td>\n",
              "      <td>False</td>\n",
              "      <td>False</td>\n",
              "      <td>False</td>\n",
              "      <td>False</td>\n",
              "      <td>False</td>\n",
              "      <td>False</td>\n",
              "      <td>False</td>\n",
              "      <td>False</td>\n",
              "      <td>False</td>\n",
              "    </tr>\n",
              "    <tr>\n",
              "      <th>1775</th>\n",
              "      <td>False</td>\n",
              "      <td>False</td>\n",
              "      <td>False</td>\n",
              "      <td>False</td>\n",
              "      <td>False</td>\n",
              "      <td>False</td>\n",
              "      <td>False</td>\n",
              "      <td>False</td>\n",
              "      <td>False</td>\n",
              "      <td>False</td>\n",
              "      <td>False</td>\n",
              "      <td>False</td>\n",
              "    </tr>\n",
              "    <tr>\n",
              "      <th>1792</th>\n",
              "      <td>False</td>\n",
              "      <td>False</td>\n",
              "      <td>False</td>\n",
              "      <td>False</td>\n",
              "      <td>False</td>\n",
              "      <td>False</td>\n",
              "      <td>False</td>\n",
              "      <td>False</td>\n",
              "      <td>False</td>\n",
              "      <td>False</td>\n",
              "      <td>False</td>\n",
              "      <td>False</td>\n",
              "    </tr>\n",
              "    <tr>\n",
              "      <th>1754</th>\n",
              "      <td>False</td>\n",
              "      <td>False</td>\n",
              "      <td>False</td>\n",
              "      <td>False</td>\n",
              "      <td>False</td>\n",
              "      <td>False</td>\n",
              "      <td>False</td>\n",
              "      <td>False</td>\n",
              "      <td>False</td>\n",
              "      <td>False</td>\n",
              "      <td>False</td>\n",
              "      <td>False</td>\n",
              "    </tr>\n",
              "    <tr>\n",
              "      <th>1716</th>\n",
              "      <td>False</td>\n",
              "      <td>False</td>\n",
              "      <td>False</td>\n",
              "      <td>False</td>\n",
              "      <td>False</td>\n",
              "      <td>False</td>\n",
              "      <td>False</td>\n",
              "      <td>False</td>\n",
              "      <td>False</td>\n",
              "      <td>False</td>\n",
              "      <td>False</td>\n",
              "      <td>False</td>\n",
              "    </tr>\n",
              "    <tr>\n",
              "      <th>...</th>\n",
              "      <td>...</td>\n",
              "      <td>...</td>\n",
              "      <td>...</td>\n",
              "      <td>...</td>\n",
              "      <td>...</td>\n",
              "      <td>...</td>\n",
              "      <td>...</td>\n",
              "      <td>...</td>\n",
              "      <td>...</td>\n",
              "      <td>...</td>\n",
              "      <td>...</td>\n",
              "      <td>...</td>\n",
              "    </tr>\n",
              "    <tr>\n",
              "      <th>1102</th>\n",
              "      <td>False</td>\n",
              "      <td>False</td>\n",
              "      <td>False</td>\n",
              "      <td>False</td>\n",
              "      <td>False</td>\n",
              "      <td>False</td>\n",
              "      <td>False</td>\n",
              "      <td>False</td>\n",
              "      <td>False</td>\n",
              "      <td>False</td>\n",
              "      <td>False</td>\n",
              "      <td>False</td>\n",
              "    </tr>\n",
              "    <tr>\n",
              "      <th>1101</th>\n",
              "      <td>False</td>\n",
              "      <td>False</td>\n",
              "      <td>False</td>\n",
              "      <td>False</td>\n",
              "      <td>False</td>\n",
              "      <td>False</td>\n",
              "      <td>False</td>\n",
              "      <td>False</td>\n",
              "      <td>False</td>\n",
              "      <td>False</td>\n",
              "      <td>False</td>\n",
              "      <td>False</td>\n",
              "    </tr>\n",
              "    <tr>\n",
              "      <th>899</th>\n",
              "      <td>False</td>\n",
              "      <td>False</td>\n",
              "      <td>False</td>\n",
              "      <td>False</td>\n",
              "      <td>False</td>\n",
              "      <td>False</td>\n",
              "      <td>False</td>\n",
              "      <td>False</td>\n",
              "      <td>False</td>\n",
              "      <td>False</td>\n",
              "      <td>False</td>\n",
              "      <td>False</td>\n",
              "    </tr>\n",
              "    <tr>\n",
              "      <th>1100</th>\n",
              "      <td>False</td>\n",
              "      <td>False</td>\n",
              "      <td>False</td>\n",
              "      <td>False</td>\n",
              "      <td>False</td>\n",
              "      <td>False</td>\n",
              "      <td>False</td>\n",
              "      <td>False</td>\n",
              "      <td>False</td>\n",
              "      <td>False</td>\n",
              "      <td>False</td>\n",
              "      <td>False</td>\n",
              "    </tr>\n",
              "    <tr>\n",
              "      <th>1099</th>\n",
              "      <td>False</td>\n",
              "      <td>False</td>\n",
              "      <td>False</td>\n",
              "      <td>False</td>\n",
              "      <td>False</td>\n",
              "      <td>False</td>\n",
              "      <td>False</td>\n",
              "      <td>False</td>\n",
              "      <td>False</td>\n",
              "      <td>False</td>\n",
              "      <td>False</td>\n",
              "      <td>False</td>\n",
              "    </tr>\n",
              "  </tbody>\n",
              "</table>\n",
              "<p>2399 rows × 12 columns</p>\n",
              "</div>"
            ],
            "text/plain": [
              "      reviewId  userName  userImage  ...  repliedAt  sortOrder  appId\n",
              "1779     False     False      False  ...      False      False  False\n",
              "1775     False     False      False  ...      False      False  False\n",
              "1792     False     False      False  ...      False      False  False\n",
              "1754     False     False      False  ...      False      False  False\n",
              "1716     False     False      False  ...      False      False  False\n",
              "...        ...       ...        ...  ...        ...        ...    ...\n",
              "1102     False     False      False  ...      False      False  False\n",
              "1101     False     False      False  ...      False      False  False\n",
              "899      False     False      False  ...      False      False  False\n",
              "1100     False     False      False  ...      False      False  False\n",
              "1099     False     False      False  ...      False      False  False\n",
              "\n",
              "[2399 rows x 12 columns]"
            ]
          },
          "metadata": {
            "tags": []
          },
          "execution_count": 15
        }
      ]
    },
    {
      "cell_type": "code",
      "metadata": {
        "id": "Zi3-8EN4ELUB"
      },
      "source": [
        "app_reviews_df = app_reviews_df.set_index('appId', inplace=False)\n",
        "\n",
        "app_reviews_gojek_df = app_reviews_df.loc['com.gojek.app']\n",
        "app_reviews_grab_df = app_reviews_df.loc['com.grabtaxi.passenger']"
      ],
      "execution_count": null,
      "outputs": []
    },
    {
      "cell_type": "code",
      "metadata": {
        "colab": {
          "base_uri": "https://localhost:8080/"
        },
        "id": "oLBJZC9lEhmi",
        "outputId": "cea3904d-136a-43cd-aaa5-00e2f4e2f4c9"
      },
      "source": [
        "print(app_reviews_gojek_df)\n",
        "print(app_reviews_grab_df)"
      ],
      "execution_count": null,
      "outputs": [
        {
          "output_type": "stream",
          "text": [
            "                                                        reviewId  ...      sortOrder\n",
            "appId                                                             ...               \n",
            "com.gojek.app  gp:AOqpTOE_Ok_CBnNrHbFAVd0BOSRp63M9x3lGvhnzAJh...  ...  most_relevant\n",
            "com.gojek.app  gp:AOqpTOEmMdTi3MtLoGJ2eJwszHbASSkK11Z1YkEQJ_U...  ...  most_relevant\n",
            "com.gojek.app  gp:AOqpTOHFDMJTEYCp5C0AC9HSQ0E7EpY3ialnY5gpF40...  ...  most_relevant\n",
            "com.gojek.app  gp:AOqpTOF4jzkCB7LqoxhNtaHs5l7YYQJYrCCnnMfk4VY...  ...  most_relevant\n",
            "com.gojek.app  gp:AOqpTOGptSLBHewv13M4zfS9Lk1AoCB8TDAYCa3TxA7...  ...  most_relevant\n",
            "...                                                          ...  ...            ...\n",
            "com.gojek.app  gp:AOqpTOEqiwvMjlW8qVUOUnTD_mH38vgy1R83D23sg0x...  ...         newest\n",
            "com.gojek.app  gp:AOqpTOF3_UWf3iXiCco3DMUnvlQWsD3KQhQSxL5ZthE...  ...         newest\n",
            "com.gojek.app  gp:AOqpTOHh2Thc64STNQyxhYgI9LhQnGk4tIV2izqwHAk...  ...         newest\n",
            "com.gojek.app  gp:AOqpTOESsF2X0df8GszA_SLhttOiekHYmjpoQ0wMzwE...  ...         newest\n",
            "com.gojek.app  gp:AOqpTOEKxoyTomNpyzGuNNGUF6i1WyVzjPLNVT6PzaK...  ...         newest\n",
            "\n",
            "[1200 rows x 11 columns]\n",
            "                                                                 reviewId  ...      sortOrder\n",
            "appId                                                                      ...               \n",
            "com.grabtaxi.passenger  gp:AOqpTOHe8xCgXWeOktp_-huXw7cb2zpavIjMmVyk8Jw...  ...  most_relevant\n",
            "com.grabtaxi.passenger  gp:AOqpTOGEoJ_sc_DqTbj2yPC6gC1b2HY65eju3PF825T...  ...  most_relevant\n",
            "com.grabtaxi.passenger  gp:AOqpTOFHlkgDIHHOxFGwZu3tlGpjHoIVpgkadAcPtCh...  ...  most_relevant\n",
            "com.grabtaxi.passenger  gp:AOqpTOGFcPy8GPoy92ULEY-a6v5YbNv_2-vBUUDr6bZ...  ...  most_relevant\n",
            "com.grabtaxi.passenger  gp:AOqpTOGHEr89Hmc2fBeyTwbJP1Pr3xGKZ8vEWbDLF2A...  ...  most_relevant\n",
            "...                                                                   ...  ...            ...\n",
            "com.grabtaxi.passenger  gp:AOqpTOEZAa1p0TZJCiQ-h3iLDJOnrvEgSs_P10eWtSR...  ...         newest\n",
            "com.grabtaxi.passenger  gp:AOqpTOHpYQz2PaXBwYttDrDwBwGWxcTYg9IXUVVsmHQ...  ...         newest\n",
            "com.grabtaxi.passenger  gp:AOqpTOHBvKQDVIdqU9-STvhtMbjJcr4fQdOt5jPvFMA...  ...         newest\n",
            "com.grabtaxi.passenger  gp:AOqpTOG8mx-pjogy1gGwTnlHIe_BQPn9kdpJNRJd0k0...  ...         newest\n",
            "com.grabtaxi.passenger  gp:AOqpTOFT8vicXGpn_2bAhqtNHncwxLqoHBqj9B51TLo...  ...         newest\n",
            "\n",
            "[1199 rows x 11 columns]\n"
          ],
          "name": "stdout"
        }
      ]
    },
    {
      "cell_type": "code",
      "metadata": {
        "colab": {
          "base_uri": "https://localhost:8080/"
        },
        "id": "wD1r0qLfEnTt",
        "outputId": "6c1a7eed-e03d-415d-a717-3f324d9874cb"
      },
      "source": [
        "app_reviews_gojek_df.reset_index(level=0, inplace=True)\n",
        "app_reviews_grab_df.reset_index(level=0, inplace=True)\n",
        "\n",
        "print(app_reviews_gojek_df)\n",
        "print(app_reviews_grab_df)"
      ],
      "execution_count": null,
      "outputs": [
        {
          "output_type": "stream",
          "text": [
            "              appId  ...      sortOrder\n",
            "0     com.gojek.app  ...  most_relevant\n",
            "1     com.gojek.app  ...  most_relevant\n",
            "2     com.gojek.app  ...  most_relevant\n",
            "3     com.gojek.app  ...  most_relevant\n",
            "4     com.gojek.app  ...  most_relevant\n",
            "...             ...  ...            ...\n",
            "1195  com.gojek.app  ...         newest\n",
            "1196  com.gojek.app  ...         newest\n",
            "1197  com.gojek.app  ...         newest\n",
            "1198  com.gojek.app  ...         newest\n",
            "1199  com.gojek.app  ...         newest\n",
            "\n",
            "[1200 rows x 12 columns]\n",
            "                       appId  ...      sortOrder\n",
            "0     com.grabtaxi.passenger  ...  most_relevant\n",
            "1     com.grabtaxi.passenger  ...  most_relevant\n",
            "2     com.grabtaxi.passenger  ...  most_relevant\n",
            "3     com.grabtaxi.passenger  ...  most_relevant\n",
            "4     com.grabtaxi.passenger  ...  most_relevant\n",
            "...                      ...  ...            ...\n",
            "1194  com.grabtaxi.passenger  ...         newest\n",
            "1195  com.grabtaxi.passenger  ...         newest\n",
            "1196  com.grabtaxi.passenger  ...         newest\n",
            "1197  com.grabtaxi.passenger  ...         newest\n",
            "1198  com.grabtaxi.passenger  ...         newest\n",
            "\n",
            "[1199 rows x 12 columns]\n"
          ],
          "name": "stdout"
        }
      ]
    },
    {
      "cell_type": "code",
      "metadata": {
        "colab": {
          "base_uri": "https://localhost:8080/"
        },
        "id": "n-r_Ys4NE2u-",
        "outputId": "2e30b1f2-1f7e-442d-a80b-76672561d39e"
      },
      "source": [
        "print(app_reviews_gojek_df.info())"
      ],
      "execution_count": null,
      "outputs": [
        {
          "output_type": "stream",
          "text": [
            "<class 'pandas.core.frame.DataFrame'>\n",
            "RangeIndex: 1200 entries, 0 to 1199\n",
            "Data columns (total 12 columns):\n",
            " #   Column                Non-Null Count  Dtype         \n",
            "---  ------                --------------  -----         \n",
            " 0   appId                 1200 non-null   object        \n",
            " 1   reviewId              1200 non-null   object        \n",
            " 2   userName              1200 non-null   object        \n",
            " 3   userImage             1200 non-null   object        \n",
            " 4   content               1200 non-null   object        \n",
            " 5   score                 1200 non-null   int64         \n",
            " 6   thumbsUpCount         1200 non-null   int64         \n",
            " 7   reviewCreatedVersion  1200 non-null   object        \n",
            " 8   at                    1200 non-null   datetime64[ns]\n",
            " 9   replyContent          1200 non-null   object        \n",
            " 10  repliedAt             1200 non-null   object        \n",
            " 11  sortOrder             1200 non-null   object        \n",
            "dtypes: datetime64[ns](1), int64(2), object(9)\n",
            "memory usage: 112.6+ KB\n",
            "None\n"
          ],
          "name": "stdout"
        }
      ]
    },
    {
      "cell_type": "code",
      "metadata": {
        "colab": {
          "base_uri": "https://localhost:8080/"
        },
        "id": "24fhoq7EE_ow",
        "outputId": "944938d6-3884-44d8-ca33-a996fe735005"
      },
      "source": [
        "app_reviews_gojek_mei = app_reviews_gojek_df[app_reviews_gojek_df['at'].dt.strftime('%Y-%m') == '2021-05']\n",
        "app_reviews_gojek_juni = app_reviews_gojek_df[app_reviews_gojek_df['at'].dt.strftime('%Y-%m') == '2021-06']\n",
        "app_reviews_gojek_juli = app_reviews_gojek_df[app_reviews_gojek_df['at'].dt.strftime('%Y-%m') == '2021-07']\n",
        "\n",
        "#membuat kolom baru\n",
        "app_reviews_gojek_mei[\"average_rating\"]  = app_reviews_gojek_mei[\"score\"].mean()\n",
        "app_reviews_gojek_juni[\"average_rating\"] = app_reviews_gojek_juni[\"score\"].mean()\n",
        "app_reviews_gojek_juli[\"average_rating\"] = app_reviews_gojek_juli[\"score\"].mean()\n",
        "\n",
        "print(app_reviews_gojek_mei['average_rating'])\n",
        "print(app_reviews_gojek_juni['average_rating'])\n",
        "print(app_reviews_gojek_juli['average_rating'])"
      ],
      "execution_count": null,
      "outputs": [
        {
          "output_type": "stream",
          "text": [
            "0     3.229167\n",
            "1     3.229167\n",
            "2     3.229167\n",
            "3     3.229167\n",
            "4     3.229167\n",
            "5     3.229167\n",
            "6     3.229167\n",
            "7     3.229167\n",
            "8     3.229167\n",
            "9     3.229167\n",
            "10    3.229167\n",
            "11    3.229167\n",
            "12    3.229167\n",
            "13    3.229167\n",
            "14    3.229167\n",
            "15    3.229167\n",
            "16    3.229167\n",
            "17    3.229167\n",
            "18    3.229167\n",
            "19    3.229167\n",
            "20    3.229167\n",
            "21    3.229167\n",
            "22    3.229167\n",
            "23    3.229167\n",
            "24    3.229167\n",
            "25    3.229167\n",
            "26    3.229167\n",
            "27    3.229167\n",
            "28    3.229167\n",
            "29    3.229167\n",
            "30    3.229167\n",
            "31    3.229167\n",
            "32    3.229167\n",
            "33    3.229167\n",
            "34    3.229167\n",
            "35    3.229167\n",
            "36    3.229167\n",
            "37    3.229167\n",
            "38    3.229167\n",
            "39    3.229167\n",
            "40    3.229167\n",
            "41    3.229167\n",
            "42    3.229167\n",
            "43    3.229167\n",
            "44    3.229167\n",
            "45    3.229167\n",
            "46    3.229167\n",
            "47    3.229167\n",
            "Name: average_rating, dtype: float64\n",
            "48     3.010526\n",
            "49     3.010526\n",
            "50     3.010526\n",
            "51     3.010526\n",
            "52     3.010526\n",
            "         ...   \n",
            "138    3.010526\n",
            "139    3.010526\n",
            "140    3.010526\n",
            "141    3.010526\n",
            "142    3.010526\n",
            "Name: average_rating, Length: 95, dtype: float64\n",
            "143     2.988647\n",
            "144     2.988647\n",
            "145     2.988647\n",
            "146     2.988647\n",
            "147     2.988647\n",
            "          ...   \n",
            "1195    2.988647\n",
            "1196    2.988647\n",
            "1197    2.988647\n",
            "1198    2.988647\n",
            "1199    2.988647\n",
            "Name: average_rating, Length: 1057, dtype: float64\n"
          ],
          "name": "stdout"
        },
        {
          "output_type": "stream",
          "text": [
            "/usr/local/lib/python3.7/dist-packages/ipykernel_launcher.py:6: SettingWithCopyWarning: \n",
            "A value is trying to be set on a copy of a slice from a DataFrame.\n",
            "Try using .loc[row_indexer,col_indexer] = value instead\n",
            "\n",
            "See the caveats in the documentation: https://pandas.pydata.org/pandas-docs/stable/user_guide/indexing.html#returning-a-view-versus-a-copy\n",
            "  \n",
            "/usr/local/lib/python3.7/dist-packages/ipykernel_launcher.py:7: SettingWithCopyWarning: \n",
            "A value is trying to be set on a copy of a slice from a DataFrame.\n",
            "Try using .loc[row_indexer,col_indexer] = value instead\n",
            "\n",
            "See the caveats in the documentation: https://pandas.pydata.org/pandas-docs/stable/user_guide/indexing.html#returning-a-view-versus-a-copy\n",
            "  import sys\n",
            "/usr/local/lib/python3.7/dist-packages/ipykernel_launcher.py:8: SettingWithCopyWarning: \n",
            "A value is trying to be set on a copy of a slice from a DataFrame.\n",
            "Try using .loc[row_indexer,col_indexer] = value instead\n",
            "\n",
            "See the caveats in the documentation: https://pandas.pydata.org/pandas-docs/stable/user_guide/indexing.html#returning-a-view-versus-a-copy\n",
            "  \n"
          ],
          "name": "stderr"
        }
      ]
    },
    {
      "cell_type": "code",
      "metadata": {
        "colab": {
          "base_uri": "https://localhost:8080/"
        },
        "id": "Zsd05bGkFyDW",
        "outputId": "c1f727fc-f196-4add-8589-e4787f66c17f"
      },
      "source": [
        "app_reviews_grab_mei = app_reviews_grab_df[app_reviews_grab_df['at'].dt.strftime('%Y-%m') == '2021-05']\n",
        "app_reviews_grab_juni = app_reviews_grab_df[app_reviews_grab_df['at'].dt.strftime('%Y-%m') == '2021-06']\n",
        "app_reviews_grab_juli = app_reviews_grab_df[app_reviews_grab_df['at'].dt.strftime('%Y-%m') == '2021-07']\n",
        "\n",
        "#membuat kolom baru\n",
        "app_reviews_grab_mei[\"average_rating\"]  = app_reviews_grab_mei[\"score\"].mean()\n",
        "app_reviews_grab_juni[\"average_rating\"] = app_reviews_grab_juni[\"score\"].mean()\n",
        "app_reviews_grab_juli[\"average_rating\"] = app_reviews_grab_juli[\"score\"].mean()\n",
        "\n",
        "print(app_reviews_grab_mei['average_rating'])\n",
        "print(app_reviews_grab_juni['average_rating'])\n",
        "print(app_reviews_grab_juli['average_rating'])"
      ],
      "execution_count": null,
      "outputs": [
        {
          "output_type": "stream",
          "text": [
            "0     2.955882\n",
            "1     2.955882\n",
            "2     2.955882\n",
            "3     2.955882\n",
            "4     2.955882\n",
            "        ...   \n",
            "63    2.955882\n",
            "64    2.955882\n",
            "65    2.955882\n",
            "66    2.955882\n",
            "67    2.955882\n",
            "Name: average_rating, Length: 68, dtype: float64\n",
            "68     2.951456\n",
            "69     2.951456\n",
            "70     2.951456\n",
            "71     2.951456\n",
            "72     2.951456\n",
            "         ...   \n",
            "166    2.951456\n",
            "167    2.951456\n",
            "168    2.951456\n",
            "169    2.951456\n",
            "170    2.951456\n",
            "Name: average_rating, Length: 103, dtype: float64\n",
            "171     3.007782\n",
            "172     3.007782\n",
            "173     3.007782\n",
            "174     3.007782\n",
            "175     3.007782\n",
            "          ...   \n",
            "1194    3.007782\n",
            "1195    3.007782\n",
            "1196    3.007782\n",
            "1197    3.007782\n",
            "1198    3.007782\n",
            "Name: average_rating, Length: 1028, dtype: float64\n"
          ],
          "name": "stdout"
        },
        {
          "output_type": "stream",
          "text": [
            "/usr/local/lib/python3.7/dist-packages/ipykernel_launcher.py:6: SettingWithCopyWarning: \n",
            "A value is trying to be set on a copy of a slice from a DataFrame.\n",
            "Try using .loc[row_indexer,col_indexer] = value instead\n",
            "\n",
            "See the caveats in the documentation: https://pandas.pydata.org/pandas-docs/stable/user_guide/indexing.html#returning-a-view-versus-a-copy\n",
            "  \n",
            "/usr/local/lib/python3.7/dist-packages/ipykernel_launcher.py:7: SettingWithCopyWarning: \n",
            "A value is trying to be set on a copy of a slice from a DataFrame.\n",
            "Try using .loc[row_indexer,col_indexer] = value instead\n",
            "\n",
            "See the caveats in the documentation: https://pandas.pydata.org/pandas-docs/stable/user_guide/indexing.html#returning-a-view-versus-a-copy\n",
            "  import sys\n",
            "/usr/local/lib/python3.7/dist-packages/ipykernel_launcher.py:8: SettingWithCopyWarning: \n",
            "A value is trying to be set on a copy of a slice from a DataFrame.\n",
            "Try using .loc[row_indexer,col_indexer] = value instead\n",
            "\n",
            "See the caveats in the documentation: https://pandas.pydata.org/pandas-docs/stable/user_guide/indexing.html#returning-a-view-versus-a-copy\n",
            "  \n"
          ],
          "name": "stderr"
        }
      ]
    },
    {
      "cell_type": "code",
      "metadata": {
        "id": "f-7wscIY7nCg"
      },
      "source": [
        "df_all_grab = pd.concat([app_reviews_grab_mei.iloc[0], app_reviews_grab_juni.iloc[0], app_reviews_grab_juli.iloc[0]])\n",
        "df_all_gojek = pd.concat([app_reviews_gojek_mei.iloc[0], app_reviews_gojek_juni.iloc[0], app_reviews_gojek_juli.iloc[0]])"
      ],
      "execution_count": null,
      "outputs": []
    },
    {
      "cell_type": "code",
      "metadata": {
        "id": "Mse7mLSS8Z7z"
      },
      "source": [
        "df_new_plot = {\n",
        "    'Date':['May', \"June\", \"July\"],\n",
        "    'GrabScore': [round(df_all_grab.average_rating[0],2),round(df_all_grab.average_rating[1],2), round(df_all_grab.average_rating[2],2)],\n",
        "    'GojekScore': [round(df_all_gojek.average_rating[0],2),round(df_all_gojek.average_rating[1],2), round(df_all_gojek.average_rating[2],2)]\n",
        "}\n",
        "df_new_plot = pd.DataFrame(df_new_plot)"
      ],
      "execution_count": null,
      "outputs": []
    },
    {
      "cell_type": "code",
      "metadata": {
        "colab": {
          "base_uri": "https://localhost:8080/"
        },
        "id": "YMaDySJC9CMw",
        "outputId": "8405e95e-2f6c-4cb5-f3dc-a7dd3ce63838"
      },
      "source": [
        "print(df_new_plot)"
      ],
      "execution_count": null,
      "outputs": [
        {
          "output_type": "stream",
          "text": [
            "   Date  GrabScore  GojekScore\n",
            "0   May       2.96        3.23\n",
            "1  June       2.95        3.01\n",
            "2  July       3.01        2.99\n"
          ],
          "name": "stdout"
        }
      ]
    },
    {
      "cell_type": "code",
      "metadata": {
        "colab": {
          "base_uri": "https://localhost:8080/",
          "height": 953
        },
        "id": "94WyCNX09QXs",
        "outputId": "0988c209-1ba9-449e-b0d7-b4624c3014f9"
      },
      "source": [
        "fig = plt.figure(figsize=(20,16))\n",
        "plt.plot(df_new_plot.Date, df_new_plot.GrabScore, label=\"Grab\", color='orange', marker='o')\n",
        "plt.plot(df_new_plot.Date, df_new_plot.GojekScore, label=\"Gojek\", color='green', marker='o')\n",
        "plt.title('Rata-rata rating bulan mei - juli', fontsize=15, color='blue')\n",
        "plt.xlabel('Bulan', fontsize=12)\n",
        "plt.ylabel('rata-rata score', fontsize=12)\n",
        "\n",
        "\n",
        "def anotation_data(data_y, color_text):\n",
        "  for i,j in zip(df_new_plot.Date, data_y):\n",
        "    plt.annotate(str(j), xy=(i,j), color=color_text,\n",
        "                  fontsize='large', weight='normal',\n",
        "                  horizontalalignment = 'center',\n",
        "                 verticalalignment='bottom'\n",
        "                 )\n",
        "\n",
        "anotation_data(df_new_plot.GrabScore, 'orange')\n",
        "anotation_data(df_new_plot.GojekScore, 'green')\n",
        "\n",
        "plt.legend()\n",
        "plt.show()"
      ],
      "execution_count": null,
      "outputs": [
        {
          "output_type": "display_data",
          "data": {
            "image/png": "[encoded data removed]",
            "text/plain": [
              "<Figure size 1440x1152 with 1 Axes>"
            ]
          },
          "metadata": {
            "tags": [],
            "needs_background": "light"
          }
        }
      ]
    },
    {
      "cell_type": "markdown",
      "metadata": {
        "id": "N9HrHufc6ZOw"
      },
      "source": [
        "# Weekly Average Rating"
      ]
    },
    {
      "cell_type": "code",
      "metadata": {
        "id": "aBjVzdCEGmyp"
      },
      "source": [
        "df = pd.DataFrame(app_reviews)\n",
        "df = df.set_index('appId', inplace=False)\n",
        "df = df.loc['com.grabtaxi.passenger']\n",
        "df.reset_index(level=0, inplace=True)\n",
        "\n",
        "df= df.sort_values([\"reviewCreatedVersion\"])"
      ],
      "execution_count": null,
      "outputs": []
    },
    {
      "cell_type": "code",
      "metadata": {
        "colab": {
          "base_uri": "https://localhost:8080/"
        },
        "id": "MxrUZxLOHaNR",
        "outputId": "7c8b1701-6cc6-4885-d9c9-2e77e736a4c2"
      },
      "source": [
        "print(df.head())"
      ],
      "execution_count": null,
      "outputs": [
        {
          "output_type": "stream",
          "text": [
            "                      appId  ... sortOrder\n",
            "376  com.grabtaxi.passenger  ...    newest\n",
            "629  com.grabtaxi.passenger  ...    newest\n",
            "338  com.grabtaxi.passenger  ...    newest\n",
            "143  com.grabtaxi.passenger  ...    newest\n",
            "734  com.grabtaxi.passenger  ...    newest\n",
            "\n",
            "[5 rows x 12 columns]\n"
          ],
          "name": "stdout"
        }
      ]
    },
    {
      "cell_type": "code",
      "metadata": {
        "id": "xD0qc-MwH25t"
      },
      "source": [
        "df = df[[\"reviewCreatedVersion\", \"score\"]]"
      ],
      "execution_count": null,
      "outputs": []
    },
    {
      "cell_type": "code",
      "metadata": {
        "colab": {
          "base_uri": "https://localhost:8080/"
        },
        "id": "kD1Q4oKMIK7x",
        "outputId": "1250b45b-26fa-4835-d2db-2e95f64f47b3"
      },
      "source": [
        "print(df.head())"
      ],
      "execution_count": null,
      "outputs": [
        {
          "output_type": "stream",
          "text": [
            "    reviewCreatedVersion  score\n",
            "376               4.27.2      2\n",
            "629               4.29.1      3\n",
            "338               4.34.1      2\n",
            "143               4.46.2      1\n",
            "734               4.52.2      3\n"
          ],
          "name": "stdout"
        }
      ]
    },
    {
      "cell_type": "code",
      "metadata": {
        "colab": {
          "base_uri": "https://localhost:8080/"
        },
        "id": "dMqBD6K8INvt",
        "outputId": "012d7a54-ac9e-4158-a675-1155a2720b32"
      },
      "source": [
        "df.shape"
      ],
      "execution_count": null,
      "outputs": [
        {
          "output_type": "execute_result",
          "data": {
            "text/plain": [
              "(1199, 2)"
            ]
          },
          "metadata": {
            "tags": []
          },
          "execution_count": 31
        }
      ]
    },
    {
      "cell_type": "code",
      "metadata": {
        "colab": {
          "base_uri": "https://localhost:8080/"
        },
        "id": "f3bpGkhWIWtX",
        "outputId": "fbaaf24f-8642-4dae-e1ec-81525ff4c49e"
      },
      "source": [
        "print(df.reviewCreatedVersion.unique())"
      ],
      "execution_count": null,
      "outputs": [
        {
          "output_type": "stream",
          "text": [
            "['4.27.2' '4.29.1' '4.34.1' '4.46.2' '4.52.2' '5.118.0' '5.119.0'\n",
            " '5.121.0' '5.122.1' '5.126.0' '5.127.0' '5.128.2' '5.131.0' '5.133.0'\n",
            " '5.134.0' '5.135.0' '5.136.0' '5.137.0' '5.138.0' '5.140.0' '5.141.0'\n",
            " '5.142.0' '5.143.0' '5.144.0' '5.145.0' '5.146.0' '5.147.0' '5.148.0'\n",
            " '5.149.1' '5.150.0' '5.151.0' '5.152.0' '5.153.0' '5.154.0' '5.155.0'\n",
            " '5.155.1' '5.156.0' '5.157.0' '5.158.0' '5.159.0' '5.160.0' '5.24.1'\n",
            " '5.40.1' '5.42.0' '5.48.1' '5.51.0' '5.54.2' '5.55.1' '5.57.0' '5.60.0'\n",
            " '5.64.0' '5.65.0' '5.68.0' '5.71.0' '5.74.1' '5.76.1' '5.83.0' '5.87.0'\n",
            " '5.88.0' '5.90.1' None]\n"
          ],
          "name": "stdout"
        }
      ]
    },
    {
      "cell_type": "code",
      "metadata": {
        "colab": {
          "base_uri": "https://localhost:8080/"
        },
        "id": "tjNvqABTIg6o",
        "outputId": "cfad6732-1374-4ffb-f14c-0811b8be673c"
      },
      "source": [
        "df.isna().sum()"
      ],
      "execution_count": null,
      "outputs": [
        {
          "output_type": "execute_result",
          "data": {
            "text/plain": [
              "reviewCreatedVersion    156\n",
              "score                     0\n",
              "dtype: int64"
            ]
          },
          "metadata": {
            "tags": []
          },
          "execution_count": 33
        }
      ]
    },
    {
      "cell_type": "code",
      "metadata": {
        "id": "JfxIEHTcIlJv"
      },
      "source": [
        "df = df.dropna()"
      ],
      "execution_count": null,
      "outputs": []
    },
    {
      "cell_type": "code",
      "metadata": {
        "colab": {
          "base_uri": "https://localhost:8080/"
        },
        "id": "UW7gO2AKIn3P",
        "outputId": "b3446b76-a737-42c0-fc42-c0a5dad2f03d"
      },
      "source": [
        "score = {}\n",
        "df_sementara  = df\n",
        "\n",
        "for k in df.reviewCreatedVersion.unique():\n",
        "  df_sementara = df[df['reviewCreatedVersion'] == k]\n",
        "  score[k] = df_sementara.score.mean()\n",
        "\n",
        "print(score)"
      ],
      "execution_count": null,
      "outputs": [
        {
          "output_type": "stream",
          "text": [
            "{'4.27.2': 2.0, '4.29.1': 3.0, '4.34.1': 2.0, '4.46.2': 1.0, '4.52.2': 3.0, '5.118.0': 4.0, '5.119.0': 1.0, '5.121.0': 4.0, '5.122.1': 4.0, '5.126.0': 1.0, '5.127.0': 3.0, '5.128.2': 2.0, '5.131.0': 3.5, '5.133.0': 2.0, '5.134.0': 1.0, '5.135.0': 3.1666666666666665, '5.136.0': 3.0, '5.137.0': 4.25, '5.138.0': 3.0, '5.140.0': 2.6666666666666665, '5.141.0': 3.0, '5.142.0': 3.4615384615384617, '5.143.0': 2.8125, '5.144.0': 3.727272727272727, '5.145.0': 2.739130434782609, '5.146.0': 2.4838709677419355, '5.147.0': 3.7142857142857144, '5.148.0': 3.0833333333333335, '5.149.1': 3.0, '5.150.0': 3.081081081081081, '5.151.0': 3.35, '5.152.0': 3.189189189189189, '5.153.0': 2.8636363636363638, '5.154.0': 2.8421052631578947, '5.155.0': 2.6875, '5.155.1': 3.1315789473684212, '5.156.0': 2.795275590551181, '5.157.0': 3.056451612903226, '5.158.0': 3.1923076923076925, '5.159.0': 3.3205128205128207, '5.160.0': 4.5, '5.24.1': 2.0, '5.40.1': 3.0, '5.42.0': 1.0, '5.48.1': 4.0, '5.51.0': 3.0, '5.54.2': 4.0, '5.55.1': 1.5, '5.57.0': 3.0, '5.60.0': 2.0, '5.64.0': 1.0, '5.65.0': 3.0, '5.68.0': 2.0, '5.71.0': 2.0, '5.74.1': 3.0, '5.76.1': 2.0, '5.83.0': 3.0, '5.87.0': 2.0, '5.88.0': 1.0, '5.90.1': 2.0}\n"
          ],
          "name": "stdout"
        }
      ]
    },
    {
      "cell_type": "code",
      "metadata": {
        "colab": {
          "base_uri": "https://localhost:8080/"
        },
        "id": "aE2JuYgCJG7w",
        "outputId": "fa60b37a-046f-4df0-fb9a-0599e2f30f9e"
      },
      "source": [
        "df_score_grab_by_version = pd.DataFrame(score.items())\n",
        "print(df_score_grab_by_version.head(10))"
      ],
      "execution_count": null,
      "outputs": [
        {
          "output_type": "stream",
          "text": [
            "         0    1\n",
            "0   4.27.2  2.0\n",
            "1   4.29.1  3.0\n",
            "2   4.34.1  2.0\n",
            "3   4.46.2  1.0\n",
            "4   4.52.2  3.0\n",
            "5  5.118.0  4.0\n",
            "6  5.119.0  1.0\n",
            "7  5.121.0  4.0\n",
            "8  5.122.1  4.0\n",
            "9  5.126.0  1.0\n"
          ],
          "name": "stdout"
        }
      ]
    },
    {
      "cell_type": "code",
      "metadata": {
        "colab": {
          "base_uri": "https://localhost:8080/",
          "height": 336
        },
        "id": "1qmG1ytSJQqM",
        "outputId": "ec037745-cca6-4f4b-d3b1-efd4c17db079"
      },
      "source": [
        "fig = plt.figure()\n",
        "ax = fig.add_axes([0,0,2,1])\n",
        "ax.bar(df_score_grab_by_version[0], df_score_grab_by_version[1])\n",
        "plt.show()"
      ],
      "execution_count": null,
      "outputs": [
        {
          "output_type": "display_data",
          "data": {
            "image/png": "[encoded data removed]",
            "text/plain": [
              "<Figure size 432x288 with 1 Axes>"
            ]
          },
          "metadata": {
            "tags": [],
            "needs_background": "light"
          }
        }
      ]
    },
    {
      "cell_type": "code",
      "metadata": {
        "id": "XrT2PioqCycU"
      },
      "source": [
        "pembatas= int(len(df_score_grab_by_version[1])/3)\n",
        "firsthalf = df_score_grab_by_version.iloc[:pembatas]\n",
        "half = df_score_grab_by_version.iloc[pembatas:pembatas*2]\n",
        "lasthalf = df_score_grab_by_version.iloc[pembatas*2:pembatas*3]"
      ],
      "execution_count": null,
      "outputs": []
    },
    {
      "cell_type": "code",
      "metadata": {
        "colab": {
          "base_uri": "https://localhost:8080/",
          "height": 336
        },
        "id": "oAva6x5PISU-",
        "outputId": "79366021-cde4-4d6c-f1ad-3a4ce90276c1"
      },
      "source": [
        "fig1 = plt.figure()\n",
        "ax = fig1.add_axes([0,0,2,1])\n",
        "ax.bar(firsthalf[0], firsthalf[1])\n",
        "plt.show()"
      ],
      "execution_count": null,
      "outputs": [
        {
          "output_type": "display_data",
          "data": {
            "image/png": "[encoded data removed]",
            "text/plain": [
              "<Figure size 432x288 with 1 Axes>"
            ]
          },
          "metadata": {
            "tags": [],
            "needs_background": "light"
          }
        }
      ]
    },
    {
      "cell_type": "code",
      "metadata": {
        "colab": {
          "base_uri": "https://localhost:8080/",
          "height": 336
        },
        "id": "oJ42ntq3IpCy",
        "outputId": "8a2c3555-1529-4649-b1f2-c2099c57bdbc"
      },
      "source": [
        "fig2 = plt.figure()\n",
        "ax = fig2.add_axes([0,0,2,1])\n",
        "ax.bar(half[0], half[1])\n",
        "plt.show()"
      ],
      "execution_count": null,
      "outputs": [
        {
          "output_type": "display_data",
          "data": {
            "image/png": "[encoded data removed]",
            "text/plain": [
              "<Figure size 432x288 with 1 Axes>"
            ]
          },
          "metadata": {
            "tags": [],
            "needs_background": "light"
          }
        }
      ]
    },
    {
      "cell_type": "code",
      "metadata": {
        "colab": {
          "base_uri": "https://localhost:8080/",
          "height": 336
        },
        "id": "pfzokJPmIsHt",
        "outputId": "db7954eb-b76d-4ef2-b110-03ad8cc68159"
      },
      "source": [
        "fig3 = plt.figure()\n",
        "ax = fig3.add_axes([0,0,2,1])\n",
        "ax.bar(lasthalf[0], lasthalf[1])\n",
        "plt.show()"
      ],
      "execution_count": null,
      "outputs": [
        {
          "output_type": "display_data",
          "data": {
            "image/png": "[encoded data removed]",
            "text/plain": [
              "<Figure size 432x288 with 1 Axes>"
            ]
          },
          "metadata": {
            "tags": [],
            "needs_background": "light"
          }
        }
      ]
    },
    {
      "cell_type": "code",
      "metadata": {
        "id": "Din-gbPqIvWc"
      },
      "source": [
        "fig1.savefig(path+'review1.pdf', bbox_inches='tight')\n",
        "fig2.savefig(path+'review2.pdf', bbox_inches='tight')\n",
        "fig3.savefig(path+'review3.pdf', bbox_inches='tight')"
      ],
      "execution_count": null,
      "outputs": []
    },
    {
      "cell_type": "markdown",
      "metadata": {
        "id": "UDXfWhZC6fYZ"
      },
      "source": [
        "#Split DataFrame to Data train and test"
      ]
    },
    {
      "cell_type": "code",
      "metadata": {
        "id": "xTWRjJ4f3U42"
      },
      "source": [
        "df = pd.DataFrame(app_reviews)\n",
        "df = df.set_index('appId', inplace=False)\n",
        "df = df.loc['com.grabtaxi.passenger']\n",
        "df.reset_index(level=0, inplace=True)\n",
        "\n",
        "df = df[[\"content\", \"score\"]]\n"
      ],
      "execution_count": null,
      "outputs": []
    },
    {
      "cell_type": "code",
      "metadata": {
        "colab": {
          "base_uri": "https://localhost:8080/"
        },
        "id": "dv__GrDS7RiX",
        "outputId": "c92199fe-63e0-4704-bae6-d7a24558ada2"
      },
      "source": [
        "df.isna().sum()"
      ],
      "execution_count": null,
      "outputs": [
        {
          "output_type": "execute_result",
          "data": {
            "text/plain": [
              "content    0\n",
              "score      0\n",
              "dtype: int64"
            ]
          },
          "metadata": {
            "tags": []
          },
          "execution_count": 44
        }
      ]
    },
    {
      "cell_type": "code",
      "metadata": {
        "id": "eVPNxIzF7VUC"
      },
      "source": [
        "#sentimen jelek jika score < 3\n",
        "#sentimen baik jika score >3\n",
        "# score == 3 akan kita hilangkan\n",
        "\n",
        "df = df[df['score'] != 3]"
      ],
      "execution_count": null,
      "outputs": []
    },
    {
      "cell_type": "code",
      "metadata": {
        "colab": {
          "base_uri": "https://localhost:8080/"
        },
        "id": "IgtzLOpE7sr6",
        "outputId": "7d1983ac-add1-4c17-c7e2-92676d114267"
      },
      "source": [
        "df.isna().sum()"
      ],
      "execution_count": null,
      "outputs": [
        {
          "output_type": "execute_result",
          "data": {
            "text/plain": [
              "content    0\n",
              "score      0\n",
              "dtype: int64"
            ]
          },
          "metadata": {
            "tags": []
          },
          "execution_count": 46
        }
      ]
    },
    {
      "cell_type": "code",
      "metadata": {
        "id": "TMyfPCLQ77zN"
      },
      "source": [
        "train, test = train_test_split(df, test_size = 0.2)"
      ],
      "execution_count": null,
      "outputs": []
    },
    {
      "cell_type": "code",
      "metadata": {
        "colab": {
          "base_uri": "https://localhost:8080/"
        },
        "id": "MlQZ6d768O7T",
        "outputId": "51bbafb6-5bf0-43a7-c1e8-41e748f091ad"
      },
      "source": [
        "print(train.head())"
      ],
      "execution_count": null,
      "outputs": [
        {
          "output_type": "stream",
          "text": [
            "                                                content  score\n",
            "1086  Aman, nyaman dan drivernya disiplin pakai mask...      5\n",
            "866   App Grab sy tdk bisa dibuka. Sudah dicoba masu...      4\n",
            "1129      Tiap kali perlu grab, tiap kali minta upgrade      5\n",
            "1003  Saya beri bintang 5 ya. Tolong akun saya di fi...      5\n",
            "962   Belakangan ini sering suruh update disaat mend...      4\n"
          ],
          "name": "stdout"
        }
      ]
    },
    {
      "cell_type": "code",
      "metadata": {
        "colab": {
          "base_uri": "https://localhost:8080/"
        },
        "id": "yg_cOTP78RQa",
        "outputId": "8249f085-055d-4265-e546-ccc4794e4593"
      },
      "source": [
        "print(test.head())"
      ],
      "execution_count": null,
      "outputs": [
        {
          "output_type": "stream",
          "text": [
            "                                                content  score\n",
            "1032  Selama pandemi ini alhamdulillah terbantu bang...      5\n",
            "1024  Aku kasi bintang 5 untuk Grab Apps. Beli Obat,...      5\n",
            "1020  Grab express sangat membantu skali utk kita pe...      5\n",
            "138   sekarang mahal pake go food ada biaya jasa apl...      1\n",
            "827   Pelayanan driver ok, hanya terkadang ongkirnya...      4\n"
          ],
          "name": "stdout"
        }
      ]
    },
    {
      "cell_type": "markdown",
      "metadata": {
        "id": "o1bPD0nc6lGM"
      },
      "source": [
        "# Create Sentiment"
      ]
    },
    {
      "cell_type": "code",
      "metadata": {
        "id": "LL3so_QHFVt6",
        "colab": {
          "base_uri": "https://localhost:8080/"
        },
        "outputId": "dfa95088-10b7-4192-d9e5-44b10be795b9"
      },
      "source": [
        "train.loc[train.score > 3, 'sentiment'] = 1\n",
        "train.loc[train.score < 3, 'sentiment'] = 0"
      ],
      "execution_count": null,
      "outputs": [
        {
          "output_type": "stream",
          "text": [
            "/usr/local/lib/python3.7/dist-packages/pandas/core/indexing.py:1596: SettingWithCopyWarning: \n",
            "A value is trying to be set on a copy of a slice from a DataFrame.\n",
            "Try using .loc[row_indexer,col_indexer] = value instead\n",
            "\n",
            "See the caveats in the documentation: https://pandas.pydata.org/pandas-docs/stable/user_guide/indexing.html#returning-a-view-versus-a-copy\n",
            "  self.obj[key] = _infer_fill_value(value)\n",
            "/usr/local/lib/python3.7/dist-packages/pandas/core/indexing.py:1763: SettingWithCopyWarning: \n",
            "A value is trying to be set on a copy of a slice from a DataFrame.\n",
            "Try using .loc[row_indexer,col_indexer] = value instead\n",
            "\n",
            "See the caveats in the documentation: https://pandas.pydata.org/pandas-docs/stable/user_guide/indexing.html#returning-a-view-versus-a-copy\n",
            "  isetter(loc, value)\n",
            "/usr/local/lib/python3.7/dist-packages/pandas/core/indexing.py:1763: SettingWithCopyWarning: \n",
            "A value is trying to be set on a copy of a slice from a DataFrame.\n",
            "Try using .loc[row_indexer,col_indexer] = value instead\n",
            "\n",
            "See the caveats in the documentation: https://pandas.pydata.org/pandas-docs/stable/user_guide/indexing.html#returning-a-view-versus-a-copy\n",
            "  isetter(loc, value)\n"
          ],
          "name": "stderr"
        }
      ]
    },
    {
      "cell_type": "code",
      "metadata": {
        "id": "nq9DchPLF0uc",
        "colab": {
          "base_uri": "https://localhost:8080/"
        },
        "outputId": "8a3eb8f6-3f5a-465c-afb7-eea0f92e73d8"
      },
      "source": [
        "test.loc[test.score >3, 'sentiment'] = 1\n",
        "test.loc[test.score <3, 'sentiment'] = 0"
      ],
      "execution_count": null,
      "outputs": [
        {
          "output_type": "stream",
          "text": [
            "/usr/local/lib/python3.7/dist-packages/pandas/core/indexing.py:1596: SettingWithCopyWarning: \n",
            "A value is trying to be set on a copy of a slice from a DataFrame.\n",
            "Try using .loc[row_indexer,col_indexer] = value instead\n",
            "\n",
            "See the caveats in the documentation: https://pandas.pydata.org/pandas-docs/stable/user_guide/indexing.html#returning-a-view-versus-a-copy\n",
            "  self.obj[key] = _infer_fill_value(value)\n",
            "/usr/local/lib/python3.7/dist-packages/pandas/core/indexing.py:1763: SettingWithCopyWarning: \n",
            "A value is trying to be set on a copy of a slice from a DataFrame.\n",
            "Try using .loc[row_indexer,col_indexer] = value instead\n",
            "\n",
            "See the caveats in the documentation: https://pandas.pydata.org/pandas-docs/stable/user_guide/indexing.html#returning-a-view-versus-a-copy\n",
            "  isetter(loc, value)\n",
            "/usr/local/lib/python3.7/dist-packages/pandas/core/indexing.py:1763: SettingWithCopyWarning: \n",
            "A value is trying to be set on a copy of a slice from a DataFrame.\n",
            "Try using .loc[row_indexer,col_indexer] = value instead\n",
            "\n",
            "See the caveats in the documentation: https://pandas.pydata.org/pandas-docs/stable/user_guide/indexing.html#returning-a-view-versus-a-copy\n",
            "  isetter(loc, value)\n"
          ],
          "name": "stderr"
        }
      ]
    },
    {
      "cell_type": "code",
      "metadata": {
        "colab": {
          "base_uri": "https://localhost:8080/",
          "height": 265
        },
        "id": "Lw4Q9cHrF9tx",
        "outputId": "a1a4af2d-83ee-4caf-eabf-9735d647b04b"
      },
      "source": [
        "plot = sns.barplot(y = train.sentiment.value_counts(), x= train.sentiment.value_counts().index)"
      ],
      "execution_count": null,
      "outputs": [
        {
          "output_type": "display_data",
          "data": {
            "image/png": "[encoded data removed]",
            "text/plain": [
              "<Figure size 432x288 with 1 Axes>"
            ]
          },
          "metadata": {
            "tags": [],
            "needs_background": "light"
          }
        }
      ]
    },
    {
      "cell_type": "code",
      "metadata": {
        "colab": {
          "base_uri": "https://localhost:8080/",
          "height": 265
        },
        "id": "nb5l9HmNGSOO",
        "outputId": "b6aefcf9-27d8-4be2-e7fd-62635259764e"
      },
      "source": [
        "plot = sns.barplot(y = test.sentiment.value_counts(), x= test.sentiment.value_counts().index)"
      ],
      "execution_count": null,
      "outputs": [
        {
          "output_type": "display_data",
          "data": {
            "image/png": "[encoded data removed]",
            "text/plain": [
              "<Figure size 432x288 with 1 Axes>"
            ]
          },
          "metadata": {
            "tags": [],
            "needs_background": "light"
          }
        }
      ]
    },
    {
      "cell_type": "code",
      "metadata": {
        "id": "hESVHvRLGqwa"
      },
      "source": [
        "def cleansing(text):\n",
        "  word_list = word_tokenize(text)\n",
        "  word_list =[word for word in word_list if len(word) > 2 and word.isalnum() ]\n",
        "  word_list = [word for word in word_list if string.punctuation not in word]\n",
        "  text = ' '.join(word_list)\n",
        "\n",
        "  return text"
      ],
      "execution_count": null,
      "outputs": []
    },
    {
      "cell_type": "code",
      "metadata": {
        "id": "quw8yCs6Hkof"
      },
      "source": [
        "pd.options.mode.chained_assignment = None  # default='warn'"
      ],
      "execution_count": null,
      "outputs": []
    },
    {
      "cell_type": "code",
      "metadata": {
        "id": "dbuNicBhHVA5"
      },
      "source": [
        "train['content_cleansing'] = train.content.apply(cleansing)\n",
        "test['content_cleansing'] = test.content.apply(cleansing)"
      ],
      "execution_count": null,
      "outputs": []
    },
    {
      "cell_type": "code",
      "metadata": {
        "colab": {
          "base_uri": "https://localhost:8080/"
        },
        "id": "BaTU3vLrHqqX",
        "outputId": "f5447612-0817-449a-cad0-fb4fd770675d"
      },
      "source": [
        "print(train.content_cleansing)"
      ],
      "execution_count": null,
      "outputs": [
        {
          "output_type": "stream",
          "text": [
            "1086    Aman nyaman dan drivernya disiplin pakai maske...\n",
            "866     App Grab tdk bisa dibuka Sudah dicoba masuk ak...\n",
            "1129         Tiap kali perlu grab tiap kali minta upgrade\n",
            "1003    Saya beri bintang Tolong akun saya fix untuk p...\n",
            "962     Belakangan ini sering suruh update disaat mend...\n",
            "                              ...                        \n",
            "1045    Aplikasi aneh lakuin apa2 suspend udah setahun...\n",
            "270     Saya pengguna baru grab saya isi ovo grab 300k...\n",
            "194     ampunnnnn aplikasinya makin hari makin ada2 aj...\n",
            "127     Udah pesan driver lama kelokasi seperti tidak ...\n",
            "1105                                                     \n",
            "Name: content_cleansing, Length: 640, dtype: object\n"
          ],
          "name": "stdout"
        }
      ]
    },
    {
      "cell_type": "code",
      "metadata": {
        "colab": {
          "base_uri": "https://localhost:8080/"
        },
        "id": "zuKVeF0PH113",
        "outputId": "6f943946-2d03-4ddf-96a9-417fb6b819b2"
      },
      "source": [
        "train.isna().sum()"
      ],
      "execution_count": null,
      "outputs": [
        {
          "output_type": "execute_result",
          "data": {
            "text/plain": [
              "content              0\n",
              "score                0\n",
              "sentiment            0\n",
              "content_cleansing    0\n",
              "dtype: int64"
            ]
          },
          "metadata": {
            "tags": []
          },
          "execution_count": 61
        }
      ]
    },
    {
      "cell_type": "code",
      "metadata": {
        "id": "OF9l4RAbH6qD",
        "colab": {
          "base_uri": "https://localhost:8080/"
        },
        "outputId": "3511661c-bb5e-4ecf-e2ba-b59091604113"
      },
      "source": [
        "test.isna().sum()"
      ],
      "execution_count": null,
      "outputs": [
        {
          "output_type": "execute_result",
          "data": {
            "text/plain": [
              "content              0\n",
              "score                0\n",
              "sentiment            0\n",
              "content_cleansing    0\n",
              "dtype: int64"
            ]
          },
          "metadata": {
            "tags": []
          },
          "execution_count": 62
        }
      ]
    },
    {
      "cell_type": "markdown",
      "metadata": {
        "id": "PHVrqp0G60yA"
      },
      "source": [
        "# Extraction"
      ]
    },
    {
      "cell_type": "code",
      "metadata": {
        "id": "Kl7DDF_O6w3p"
      },
      "source": [
        "cv = CountVectorizer()\n",
        "X_train = cv.fit_transform(train.content_cleansing)\n",
        "X_test = cv.transform(test.content_cleansing)"
      ],
      "execution_count": null,
      "outputs": []
    },
    {
      "cell_type": "markdown",
      "metadata": {
        "id": "sDfMcgrx64pK"
      },
      "source": [
        "#Model"
      ]
    },
    {
      "cell_type": "code",
      "metadata": {
        "id": "RX-yLRax2_qx"
      },
      "source": [
        "#Model\n",
        "model_mnb = MultinomialNB()\n",
        "model_mnb.fit(X_train, train.sentiment)\n",
        "y_pred = model_mnb.predict(X_test)\n",
        "y_pred = y_pred.astype(np.int16)"
      ],
      "execution_count": null,
      "outputs": []
    },
    {
      "cell_type": "markdown",
      "metadata": {
        "id": "YI1eKnr83UGr"
      },
      "source": [
        "#Eval"
      ]
    },
    {
      "cell_type": "code",
      "metadata": {
        "colab": {
          "base_uri": "https://localhost:8080/"
        },
        "id": "5VtABFg23U5x",
        "outputId": "6aa4ef6e-6b90-4b90-d9ac-dfcfe350c375"
      },
      "source": [
        "f1_score(test.sentiment.astype(np.int16), y_pred)"
      ],
      "execution_count": null,
      "outputs": [
        {
          "output_type": "execute_result",
          "data": {
            "text/plain": [
              "0.7417218543046358"
            ]
          },
          "metadata": {
            "tags": []
          },
          "execution_count": 70
        }
      ]
    },
    {
      "cell_type": "code",
      "metadata": {
        "colab": {
          "base_uri": "https://localhost:8080/"
        },
        "id": "aNDyyeXU44EA",
        "outputId": "2e1548ac-f304-46bb-c300-a7f293fb1a14"
      },
      "source": [
        "precision_score(test.sentiment, y_pred)"
      ],
      "execution_count": null,
      "outputs": [
        {
          "output_type": "execute_result",
          "data": {
            "text/plain": [
              "0.9180327868852459"
            ]
          },
          "metadata": {
            "tags": []
          },
          "execution_count": 71
        }
      ]
    },
    {
      "cell_type": "code",
      "metadata": {
        "colab": {
          "base_uri": "https://localhost:8080/"
        },
        "id": "PQICy7B-48p4",
        "outputId": "7f623017-4dbc-410f-93d0-61745f88ac0b"
      },
      "source": [
        "recall_score(test.sentiment, y_pred)"
      ],
      "execution_count": null,
      "outputs": [
        {
          "output_type": "execute_result",
          "data": {
            "text/plain": [
              "0.6222222222222222"
            ]
          },
          "metadata": {
            "tags": []
          },
          "execution_count": 72
        }
      ]
    },
    {
      "cell_type": "code",
      "metadata": {
        "colab": {
          "base_uri": "https://localhost:8080/"
        },
        "id": "cOp4lq2b5Gow",
        "outputId": "aa0e0219-15fa-4ff6-cd2c-e7d006e9d07d"
      },
      "source": [
        "y_pred"
      ],
      "execution_count": null,
      "outputs": [
        {
          "output_type": "execute_result",
          "data": {
            "text/plain": [
              "array([1, 1, 1, 0, 0, 0, 0, 0, 1, 0, 1, 1, 1, 0, 0, 0, 1, 0, 0, 0, 1, 1,\n",
              "       0, 0, 0, 0, 1, 1, 1, 1, 1, 0, 0, 0, 0, 1, 1, 1, 0, 0, 0, 1, 0, 0,\n",
              "       0, 0, 0, 0, 1, 0, 1, 1, 1, 0, 0, 1, 0, 0, 0, 0, 0, 1, 0, 0, 1, 0,\n",
              "       0, 1, 1, 0, 0, 0, 0, 1, 0, 1, 0, 0, 0, 0, 0, 0, 0, 0, 0, 0, 0, 0,\n",
              "       1, 0, 0, 1, 0, 1, 1, 1, 1, 0, 1, 1, 0, 1, 0, 0, 0, 1, 1, 0, 0, 0,\n",
              "       0, 1, 0, 1, 1, 1, 0, 0, 1, 1, 0, 1, 0, 1, 0, 0, 0, 0, 1, 0, 0, 1,\n",
              "       1, 0, 1, 0, 0, 1, 0, 1, 0, 0, 0, 0, 1, 0, 1, 0, 0, 0, 0, 0, 1, 0,\n",
              "       0, 1, 0, 1, 1, 0], dtype=int16)"
            ]
          },
          "metadata": {
            "tags": []
          },
          "execution_count": 73
        }
      ]
    },
    {
      "cell_type": "code",
      "metadata": {
        "colab": {
          "base_uri": "https://localhost:8080/"
        },
        "id": "svV0FbO75Bf9",
        "outputId": "66aaa4e0-dce9-4872-8773-a0094830fe31"
      },
      "source": [
        "confusion_matrix(test.sentiment, y_pred, labels= [0,1])"
      ],
      "execution_count": null,
      "outputs": [
        {
          "output_type": "execute_result",
          "data": {
            "text/plain": [
              "array([[65,  5],\n",
              "       [34, 56]])"
            ]
          },
          "metadata": {
            "tags": []
          },
          "execution_count": 74
        }
      ]
    },
    {
      "cell_type": "code",
      "metadata": {
        "colab": {
          "base_uri": "https://localhost:8080/"
        },
        "id": "NTkLV6u05Koi",
        "outputId": "a325a552-130b-423f-9c21-76d4b05d62ce"
      },
      "source": [
        "test.sentiment.value_counts()"
      ],
      "execution_count": null,
      "outputs": [
        {
          "output_type": "execute_result",
          "data": {
            "text/plain": [
              "1.0    90\n",
              "0.0    70\n",
              "Name: sentiment, dtype: int64"
            ]
          },
          "metadata": {
            "tags": []
          },
          "execution_count": 75
        }
      ]
    }
  ]
}