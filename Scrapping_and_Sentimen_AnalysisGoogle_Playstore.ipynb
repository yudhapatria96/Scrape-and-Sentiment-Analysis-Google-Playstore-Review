{
  "nbformat": 4,
  "nbformat_minor": 0,
  "metadata": {
    "colab": {
      "name": "Scrapping and Sentimen AnalysisGoogle Playstore.ipynb",
      "provenance": [],
      "toc_visible": true,
      "include_colab_link": true
    },
    "kernelspec": {
      "name": "python3",
      "display_name": "Python 3"
    },
    "language_info": {
      "name": "python"
    }
  },
  "cells": [
    {
      "cell_type": "markdown",
      "metadata": {
        "id": "view-in-github",
        "colab_type": "text"
      },
      "source": [
        "<a href=\"https://colab.research.google.com/github/yudhapatria96/Scrape-and-Sentiment-Analysis-Google-Playstore-Review/blob/main/Scrapping_and_Sentimen_AnalysisGoogle_Playstore.ipynb\" target=\"_parent\"><img src=\"https://colab.research.google.com/assets/colab-badge.svg\" alt=\"Open In Colab\"/></a>"
      ]
    },
    {
      "cell_type": "markdown",
      "metadata": {
        "id": "PIWFU6Ma5_Cb"
      },
      "source": [
        "#Import Library"
      ]
    },
    {
      "cell_type": "code",
      "metadata": {
        "id": "9hPGLW3OBSkl",
        "colab": {
          "base_uri": "https://localhost:8080/"
        },
        "outputId": "8bb7648e-0174-453d-c6fb-84b6a8aea92e"
      },
      "source": [
        "  !pip install -qq google-play-scraper"
      ],
      "execution_count": 1,
      "outputs": [
        {
          "output_type": "stream",
          "text": [
            "\u001b[?25l\r\u001b[K     |██████▎                         | 10 kB 19.1 MB/s eta 0:00:01\r\u001b[K     |████████████▌                   | 20 kB 10.2 MB/s eta 0:00:01\r\u001b[K     |██████████████████▉             | 30 kB 8.4 MB/s eta 0:00:01\r\u001b[K     |█████████████████████████       | 40 kB 7.7 MB/s eta 0:00:01\r\u001b[K     |███████████████████████████████▎| 51 kB 4.2 MB/s eta 0:00:01\r\u001b[K     |████████████████████████████████| 52 kB 562 kB/s \n",
            "\u001b[?25h  Building wheel for google-play-scraper (setup.py) ... \u001b[?25l\u001b[?25hdone\n"
          ],
          "name": "stdout"
        }
      ]
    },
    {
      "cell_type": "code",
      "metadata": {
        "id": "w5DkNeE1BW20",
        "colab": {
          "base_uri": "https://localhost:8080/"
        },
        "outputId": "815af396-10de-4801-9337-7e923d213106"
      },
      "source": [
        "import json\n",
        "import pandas as pd\n",
        "\n",
        "import numpy as np\n",
        "import matplotlib.pyplot as plt\n",
        "\n",
        "import seaborn as sns\n",
        "import nltk\n",
        "nltk.download('punkt')\n",
        "from nltk.tokenize import word_tokenize\n",
        "import string\n",
        "\n",
        "from sklearn.model_selection import train_test_split \n",
        "\n",
        "from sklearn.feature_extraction.text import CountVectorizer\n",
        "from sklearn.naive_bayes import MultinomialNB\n",
        "from sklearn.metrics import f1_score, recall_score,precision_score, accuracy_score,confusion_matrix\n",
        "\n",
        "  \n",
        "from tqdm import tqdm\n",
        "\n",
        "from pygments import highlight\n",
        "from pygments.lexers import JsonLexer\n",
        "from pygments.formatters import TerminalFormatter\n",
        "\n",
        "from google_play_scraper import Sort, reviews, app\n"
      ],
      "execution_count": 62,
      "outputs": [
        {
          "output_type": "stream",
          "text": [
            "[nltk_data] Downloading package punkt to /root/nltk_data...\n",
            "[nltk_data]   Package punkt is already up-to-date!\n"
          ],
          "name": "stdout"
        }
      ]
    },
    {
      "cell_type": "markdown",
      "metadata": {
        "id": "4dWkVHpv6Cmb"
      },
      "source": [
        "#Setup Google Drive"
      ]
    },
    {
      "cell_type": "code",
      "metadata": {
        "colab": {
          "base_uri": "https://localhost:8080/"
        },
        "id": "YxoLPtG64yBr",
        "outputId": "758a91ab-415b-4efd-80c8-ca533982d3e5"
      },
      "source": [
        "from google.colab import drive\n",
        "drive.mount('/content/gdrive', force_remount=True)\n",
        "path = \"gdrive/MyDrive/Semua Tentang Data/Google Playstore Review Scrape/\""
      ],
      "execution_count": 3,
      "outputs": [
        {
          "output_type": "stream",
          "text": [
            "Mounted at /content/gdrive\n"
          ],
          "name": "stdout"
        }
      ]
    },
    {
      "cell_type": "markdown",
      "metadata": {
        "id": "9YbEpE3-6EGh"
      },
      "source": [
        "# Scrape Googel Playstore Reviews"
      ]
    },
    {
      "cell_type": "code",
      "metadata": {
        "id": "_qig7S8bBoE3"
      },
      "source": [
        "app_packages = [\n",
        "    'com.grabtaxi.passenger',\n",
        "    'com.gojek.app'   \n",
        "]"
      ],
      "execution_count": 4,
      "outputs": []
    },
    {
      "cell_type": "code",
      "metadata": {
        "colab": {
          "base_uri": "https://localhost:8080/"
        },
        "id": "AIoOPTzDB8s4",
        "outputId": "dce838e6-14eb-4b86-b594-bdf5de4dfce8"
      },
      "source": [
        "app_infos = []\n",
        "\n",
        "for application in tqdm(app_packages):\n",
        "  info = app(application, lang='id', country='id')\n",
        "  del info['comments']\n",
        "  app_infos.append(info)"
      ],
      "execution_count": 5,
      "outputs": [
        {
          "output_type": "stream",
          "text": [
            "100%|██████████| 2/2 [00:00<00:00,  6.31it/s]\n"
          ],
          "name": "stderr"
        }
      ]
    },
    {
      "cell_type": "code",
      "metadata": {
        "id": "Yl61b1E7CUfV"
      },
      "source": [
        "def print_json(json_object):\n",
        "  json_str = json.dumps(\n",
        "      json_object,\n",
        "      indent=2,\n",
        "      sort_keys = True,\n",
        "      default=str\n",
        "  )\n",
        "  print(highlight(json_str, JsonLexer(), TerminalFormatter()))"
      ],
      "execution_count": 6,
      "outputs": []
    },
    {
      "cell_type": "code",
      "metadata": {
        "colab": {
          "base_uri": "https://localhost:8080/"
        },
        "id": "GB1YaHE-CsEp",
        "outputId": "ed870731-e27b-4d3b-b7b7-6fd06867cf33"
      },
      "source": [
        "print_json(app_infos[0])"
      ],
      "execution_count": 7,
      "outputs": [
        {
          "output_type": "stream",
          "text": [
            "{\n",
            "  \u001b[94m\"adSupported\"\u001b[39;49;00m: \u001b[34mnull\u001b[39;49;00m,\n",
            "  \u001b[94m\"androidVersion\"\u001b[39;49;00m: \u001b[33m\"5.0\"\u001b[39;49;00m,\n",
            "  \u001b[94m\"androidVersionText\"\u001b[39;49;00m: \u001b[33m\"5.0 dan yang lebih tinggi\"\u001b[39;49;00m,\n",
            "  \u001b[94m\"appId\"\u001b[39;49;00m: \u001b[33m\"com.grabtaxi.passenger\"\u001b[39;49;00m,\n",
            "  \u001b[94m\"containsAds\"\u001b[39;49;00m: \u001b[34mfalse\u001b[39;49;00m,\n",
            "  \u001b[94m\"contentRating\"\u001b[39;49;00m: \u001b[33m\"Rating 3+\"\u001b[39;49;00m,\n",
            "  \u001b[94m\"contentRatingDescription\"\u001b[39;49;00m: \u001b[34mnull\u001b[39;49;00m,\n",
            "  \u001b[94m\"currency\"\u001b[39;49;00m: \u001b[33m\"IDR\"\u001b[39;49;00m,\n",
            "  \u001b[94m\"description\"\u001b[39;49;00m: \u001b[33m\"Grab adalah aplikasi super terkemuka di Asia Tenggara. Kami menawarkan layanan esensial untuk kebutuhan sehari-hari ke lebih dari 670 juta orang di Singapura, Indonesia, Malaysia, Thailand, Filipina, Vietnam, Kamboja, dan Myanmar. Layanan esensial ini terdiri dari Pengiriman (makanan, belanjaan, paket), Transportasi (roda 4, roda 3, roda 2), Keuangan (pinjaman, asuransi, pembayaran nontunai, manajemen harta), Usaha, dan Lain-lain. Misi kami adalah memajukan Asia Tenggara dengan melakukan pemberdayaan ekonomi untuk semua orang di wilayah ini.\\r\\n\\r\\n\\r\\nPengiriman makanan yang memenuhi keinginanmu\\r\\nGrabFood: Pesan dari restoran favoritmu dan makanan akan dikirim langsung ke rumahmu\\r\\n\\r\\nPengiriman belanjaan yang mudah dengan jangkauan luas\\r\\nGrabMart: Pilih berbagai macam belanjaan dan produk segar. Pesanan akan diantar dari toko ke tempatmu dalam satu jam atau sesuai jadwal yang kamu buat\\r\\n\\r\\nPesan kendaraan untuk setiap kesempatan dan anggaran\\r\\nPilih dari berbagai jenis moda transportasi, mulai dari motor, mobil, hingga bus\\r\\n\\r\\nPembayaran tanpa tunai yang aman dan praktis\\r\\nOVO: Dompet digital yang aman dan mudah digunakan untuk membayar layanan Grab dan mitra merchant lokal.\\r\\n\\r\\nPengiriman paket sesuai pesanan yang dapat diandalkan\\r\\nGrabExpress: Layanan kurir yang terjangkau, cepat, dan dapat diandalkan, dilengkapi dengan asuransi untuk barangmu\\r\\n\\r\\nHadiah untuk pemakaian Grab\\r\\nGrabRewards: Dapatkan poin hadiah untuk setiap rupiah yang kamu pakai dan tukar poinmu dengan kupon diskon di katalog GrabRewards\\r\\n\\r\\nTemukan lebih banyak tentang kami di www.grab.com. Kami memungkinkan kamu untuk menerima iklan yang dipersonalisasi, penawaran, dan pembaruan dari Grab dan mitra kami, serta (komunikasi/iklan) dari aplikasi pihak ketiga tertentu berdasarkan aktivitas di perangkatmu. Kamu bisa menonaktifkan komunikasi/iklan di menu Manajemen Privasi dan Izin dalam Pengaturan di aplikasi. Untuk informasi lebih lanjut, lihat Kebijakan Privasi kami di www.grab.com/pivacy.\"\u001b[39;49;00m,\n",
            "  \u001b[94m\"descriptionHTML\"\u001b[39;49;00m: \u001b[33m\"Grab adalah aplikasi super terkemuka di Asia Tenggara. Kami menawarkan layanan esensial untuk kebutuhan sehari-hari ke lebih dari 670 juta orang di Singapura, Indonesia, Malaysia, Thailand, Filipina, Vietnam, Kamboja, dan Myanmar. Layanan esensial ini terdiri dari Pengiriman (makanan, belanjaan, paket), Transportasi (roda 4, roda 3, roda 2), Keuangan (pinjaman, asuransi, pembayaran nontunai, manajemen harta), Usaha, dan Lain-lain. Misi kami adalah memajukan Asia Tenggara dengan melakukan pemberdayaan ekonomi untuk semua orang di wilayah ini.<br><br><br>Pengiriman makanan yang memenuhi keinginanmu<br>GrabFood: Pesan dari restoran favoritmu dan makanan akan dikirim langsung ke rumahmu<br><br>Pengiriman belanjaan yang mudah dengan jangkauan luas<br>GrabMart: Pilih berbagai macam belanjaan dan produk segar. Pesanan akan diantar dari toko ke tempatmu dalam satu jam atau sesuai jadwal yang kamu buat<br><br>Pesan kendaraan untuk setiap kesempatan dan anggaran<br>Pilih dari berbagai jenis moda transportasi, mulai dari motor, mobil, hingga bus<br><br>Pembayaran tanpa tunai yang aman dan praktis<br>OVO: Dompet digital yang aman dan mudah digunakan untuk membayar layanan Grab dan mitra merchant lokal.<br><br>Pengiriman paket sesuai pesanan yang dapat diandalkan<br>GrabExpress: Layanan kurir yang terjangkau, cepat, dan dapat diandalkan, dilengkapi dengan asuransi untuk barangmu<br><br>Hadiah untuk pemakaian Grab<br>GrabRewards: Dapatkan poin hadiah untuk setiap rupiah yang kamu pakai dan tukar poinmu dengan kupon diskon di katalog GrabRewards<br><br>Temukan lebih banyak tentang kami di www.grab.com. Kami memungkinkan kamu untuk menerima iklan yang dipersonalisasi, penawaran, dan pembaruan dari Grab dan mitra kami, serta (komunikasi/iklan) dari aplikasi pihak ketiga tertentu berdasarkan aktivitas di perangkatmu. Kamu bisa menonaktifkan komunikasi/iklan di menu Manajemen Privasi dan Izin dalam Pengaturan di aplikasi. Untuk informasi lebih lanjut, lihat Kebijakan Privasi kami di www.grab.com/pivacy.\"\u001b[39;49;00m,\n",
            "  \u001b[94m\"developer\"\u001b[39;49;00m: \u001b[33m\"Grab Holdings\"\u001b[39;49;00m,\n",
            "  \u001b[94m\"developerAddress\"\u001b[39;49;00m: \u001b[33m\"138 Cecil street,\\n#01-01 Cecil Court,\\nSingapore 069538.\"\u001b[39;49;00m,\n",
            "  \u001b[94m\"developerEmail\"\u001b[39;49;00m: \u001b[33m\"support@grab.com\"\u001b[39;49;00m,\n",
            "  \u001b[94m\"developerId\"\u001b[39;49;00m: \u001b[33m\"Grab+Holdings\"\u001b[39;49;00m,\n",
            "  \u001b[94m\"developerInternalID\"\u001b[39;49;00m: \u001b[33m\"5168046712271561093\"\u001b[39;49;00m,\n",
            "  \u001b[94m\"developerWebsite\"\u001b[39;49;00m: \u001b[33m\"https://grab.com \"\u001b[39;49;00m,\n",
            "  \u001b[94m\"editorsChoice\"\u001b[39;49;00m: \u001b[34mfalse\u001b[39;49;00m,\n",
            "  \u001b[94m\"free\"\u001b[39;49;00m: \u001b[34mtrue\u001b[39;49;00m,\n",
            "  \u001b[94m\"genre\"\u001b[39;49;00m: \u001b[33m\"Peta & Navigasi\"\u001b[39;49;00m,\n",
            "  \u001b[94m\"genreId\"\u001b[39;49;00m: \u001b[33m\"MAPS_AND_NAVIGATION\"\u001b[39;49;00m,\n",
            "  \u001b[94m\"headerImage\"\u001b[39;49;00m: \u001b[33m\"https://play-lh.googleusercontent.com/7sChIl4sQabpgd_4dfBm5o1-cUteVd1zukw_AwpfAEzfNrFxf5nXRHngAgLJFydlQQ\"\u001b[39;49;00m,\n",
            "  \u001b[94m\"histogram\"\u001b[39;49;00m: [\n",
            "    \u001b[34m479166\u001b[39;49;00m,\n",
            "    \u001b[34m101785\u001b[39;49;00m,\n",
            "    \u001b[34m190189\u001b[39;49;00m,\n",
            "    \u001b[34m569739\u001b[39;49;00m,\n",
            "    \u001b[34m5400282\u001b[39;49;00m\n",
            "  ],\n",
            "  \u001b[94m\"icon\"\u001b[39;49;00m: \u001b[33m\"https://play-lh.googleusercontent.com/fWXojoO5RNgOz-lOsT2RCwQcaR2CNDyJK5EZ8da8uxAY0lQYko5TTLq7pyCxRcja-0YZohO0iGqrI90U_GOE\"\u001b[39;49;00m,\n",
            "  \u001b[94m\"inAppProductPrice\"\u001b[39;49;00m: \u001b[34mnull\u001b[39;49;00m,\n",
            "  \u001b[94m\"installs\"\u001b[39;49;00m: \u001b[33m\"100.000.000+\"\u001b[39;49;00m,\n",
            "  \u001b[94m\"minInstalls\"\u001b[39;49;00m: \u001b[34m100000000\u001b[39;49;00m,\n",
            "  \u001b[94m\"offersIAP\"\u001b[39;49;00m: \u001b[34mfalse\u001b[39;49;00m,\n",
            "  \u001b[94m\"originalPrice\"\u001b[39;49;00m: \u001b[34mnull\u001b[39;49;00m,\n",
            "  \u001b[94m\"price\"\u001b[39;49;00m: \u001b[34m0\u001b[39;49;00m,\n",
            "  \u001b[94m\"privacyPolicy\"\u001b[39;49;00m: \u001b[33m\"https://www.grab.com/privacy\"\u001b[39;49;00m,\n",
            "  \u001b[94m\"ratings\"\u001b[39;49;00m: \u001b[34m6741161\u001b[39;49;00m,\n",
            "  \u001b[94m\"recentChanges\"\u001b[39;49;00m: \u001b[33m\"In Asia, we don't say \\\"I love you\\\", we say \\\"I bought durians, let's eat together!\\\" and we think that's beautiful.\\r\\n\\r\\nKami juga berpikir inilah waktu yang tepat untuk nikmati si raja buah dengan orang-orang tersayang di rumah. Jadi kenapa gak pesan durian dari Grab sebelum musimnya berakhir?\\r\\n\\r\\nAplikasi Grab punya kekuatan dan ketahanan yang baik karena engineer kami mempertahankannya dari bug aplikasi sepanjang waktu. Update aplikasimu ke 5.161 sekarang untuk hilangkan bug sebelum pesan durian.\"\u001b[39;49;00m,\n",
            "  \u001b[94m\"recentChangesHTML\"\u001b[39;49;00m: \u001b[33m\"In Asia, we don&#39;t say &quot;I love you&quot;, we say &quot;I bought durians, let&#39;s eat together!&quot; and we think that&#39;s beautiful.<br><br>Kami juga berpikir inilah waktu yang tepat untuk nikmati si raja buah dengan orang-orang tersayang di rumah. Jadi kenapa gak pesan durian dari Grab sebelum musimnya berakhir?<br><br>Aplikasi Grab punya kekuatan dan ketahanan yang baik karena engineer kami mempertahankannya dari bug aplikasi sepanjang waktu. Update aplikasimu ke 5.161 sekarang untuk hilangkan bug sebelum pesan durian.\"\u001b[39;49;00m,\n",
            "  \u001b[94m\"released\"\u001b[39;49;00m: \u001b[33m\"30 Mei 2013\"\u001b[39;49;00m,\n",
            "  \u001b[94m\"reviews\"\u001b[39;49;00m: \u001b[34m2032698\u001b[39;49;00m,\n",
            "  \u001b[94m\"sale\"\u001b[39;49;00m: \u001b[34mfalse\u001b[39;49;00m,\n",
            "  \u001b[94m\"saleText\"\u001b[39;49;00m: \u001b[34mnull\u001b[39;49;00m,\n",
            "  \u001b[94m\"saleTime\"\u001b[39;49;00m: \u001b[34mnull\u001b[39;49;00m,\n",
            "  \u001b[94m\"score\"\u001b[39;49;00m: \u001b[34m4.529437\u001b[39;49;00m,\n",
            "  \u001b[94m\"screenshots\"\u001b[39;49;00m: [\n",
            "    \u001b[33m\"https://play-lh.googleusercontent.com/kH7UtY5YXqpsghV8J70vuo9uNoecS9sYn6TCT6CXzg_wCsIaxNJli-e_7gbG88-OdIo\"\u001b[39;49;00m,\n",
            "    \u001b[33m\"https://play-lh.googleusercontent.com/rxY2RCq8yqMcwJN67OSgmlzo51BvqsfMuVfuP3wn5ZDmfqXQUHVx2RElBuUnTp9fekfJ\"\u001b[39;49;00m,\n",
            "    \u001b[33m\"https://play-lh.googleusercontent.com/yJVZV04-CHDt8-352HSTDioXuStU--SR2tGnCXlAc7Bzx5KrH_9De1iek1Z75YvCKVs\"\u001b[39;49;00m,\n",
            "    \u001b[33m\"https://play-lh.googleusercontent.com/zHMqc3LcvH2usamkImm_NvC97bfAXzCNvTvprbW_JR7Nv-Cp98BwqhDbxfZYEurzpg\"\u001b[39;49;00m,\n",
            "    \u001b[33m\"https://play-lh.googleusercontent.com/6WDH4_OLJhHanrOdEYLYmFJGpAzjMv1L09M4WKBlDrKWJmD-36G32UjXhCVYXowIrg\"\u001b[39;49;00m,\n",
            "    \u001b[33m\"https://play-lh.googleusercontent.com/U-TmeLVtT-VIH5YKq5VVWqyB5XOv86DR0MpcwwJbwtyIyHLU_FXr6L2-v0qq3UsCcfE\"\u001b[39;49;00m\n",
            "  ],\n",
            "  \u001b[94m\"size\"\u001b[39;49;00m: \u001b[33m\"173M\"\u001b[39;49;00m,\n",
            "  \u001b[94m\"summary\"\u001b[39;49;00m: \u001b[33m\"Aplikasi harianmu yang serba ada di Asia Tenggara\"\u001b[39;49;00m,\n",
            "  \u001b[94m\"summaryHTML\"\u001b[39;49;00m: \u001b[33m\"Aplikasi harianmu yang serba ada di Asia Tenggara\"\u001b[39;49;00m,\n",
            "  \u001b[94m\"title\"\u001b[39;49;00m: \u001b[33m\"Grab Superapp\"\u001b[39;49;00m,\n",
            "  \u001b[94m\"updated\"\u001b[39;49;00m: \u001b[34m1628580595\u001b[39;49;00m,\n",
            "  \u001b[94m\"url\"\u001b[39;49;00m: \u001b[33m\"https://play.google.com/store/apps/details?id=com.grabtaxi.passenger&hl=id&gl=id\"\u001b[39;49;00m,\n",
            "  \u001b[94m\"version\"\u001b[39;49;00m: \u001b[33m\"5.161.0\"\u001b[39;49;00m,\n",
            "  \u001b[94m\"video\"\u001b[39;49;00m: \u001b[34mnull\u001b[39;49;00m,\n",
            "  \u001b[94m\"videoImage\"\u001b[39;49;00m: \u001b[34mnull\u001b[39;49;00m\n",
            "}\n",
            "\n"
          ],
          "name": "stdout"
        }
      ]
    },
    {
      "cell_type": "code",
      "metadata": {
        "id": "OgA6mCSi3zCx"
      },
      "source": [
        "def format_title(title):\n",
        "  sep_index = title.find(':') if title.find(':') != -1 else title.find('-')\n",
        "  if sep_index != -1:\n",
        "    title = title[:sep_index]\n",
        "  return title[:10]\n"
      ],
      "execution_count": 8,
      "outputs": []
    },
    {
      "cell_type": "code",
      "metadata": {
        "id": "uSUiJDxt4RM8"
      },
      "source": [
        "app_infos_df = pd.DataFrame(app_infos)\n",
        "app_infos_df.to_csv(path +'apps.csv', index =None, header= True)"
      ],
      "execution_count": 9,
      "outputs": []
    },
    {
      "cell_type": "code",
      "metadata": {
        "colab": {
          "base_uri": "https://localhost:8080/"
        },
        "id": "dsZ_o9XW5M72",
        "outputId": "2d30c9c4-0d98-4862-f126-3ca64750803c"
      },
      "source": [
        "app_reviews = []\n",
        "\n",
        "for ap in tqdm(app_packages):\n",
        "  for score in list(range(1,6)):\n",
        "    for sort_order in [Sort.MOST_RELEVANT, Sort.NEWEST]:\n",
        "      rvs, _ = reviews(\n",
        "          ap,\n",
        "          lang='id',\n",
        "          country = 'id',\n",
        "          sort = sort_order,\n",
        "          count=200 if score == 3 else 100,\n",
        "          filter_score_with = score\n",
        "      )\n",
        "      for r in rvs:\n",
        "        r['sortOrder'] = 'most_relevant' if sort_order == Sort.MOST_RELEVANT else 'newest'\n",
        "        r['appId'] = ap\n",
        "      app_reviews.extend(rvs)"
      ],
      "execution_count": 10,
      "outputs": [
        {
          "output_type": "stream",
          "text": [
            "100%|██████████| 2/2 [00:06<00:00,  3.22s/it]\n"
          ],
          "name": "stderr"
        }
      ]
    },
    {
      "cell_type": "code",
      "metadata": {
        "colab": {
          "base_uri": "https://localhost:8080/"
        },
        "id": "CniMK9mx53_p",
        "outputId": "2301086f-3f25-4399-922c-edb458f4351b"
      },
      "source": [
        "print_json(app_reviews[0])"
      ],
      "execution_count": 11,
      "outputs": [
        {
          "output_type": "stream",
          "text": [
            "{\n",
            "  \u001b[94m\"appId\"\u001b[39;49;00m: \u001b[33m\"com.grabtaxi.passenger\"\u001b[39;49;00m,\n",
            "  \u001b[94m\"at\"\u001b[39;49;00m: \u001b[33m\"2021-08-12 00:37:48\"\u001b[39;49;00m,\n",
            "  \u001b[94m\"content\"\u001b[39;49;00m: \u001b[33m\"Baru tau dari driver, ternyata dalam orderan ada biaya pemesanan 6000, biaya asuransi 1000. Pantesan aja jadi mahal tarifnya. Blom lagi bagi driver potongan 20%, jadi berapa yang didapat driver ya? Kirain pake Indriver atau Maxim kasian ke drivernya, ternyata grab lebih parah pendapatan buat drivernya\"\u001b[39;49;00m,\n",
            "  \u001b[94m\"repliedAt\"\u001b[39;49;00m: \u001b[33m\"2021-08-12 00:50:01\"\u001b[39;49;00m,\n",
            "  \u001b[94m\"replyContent\"\u001b[39;49;00m: \u001b[33m\"Halo Kak. Maaf ya buat engga nyaman \\ud83d\\ude47\\u200d\\u2640\\ufe0f\\nApabila Kakak menemukan kendala pada penggunaan aplikasi Grab Penumpang maka silakan laporkan melalui link https://grb.to/consumeridhelpcenter agar bisa ditindaklanjuti ya. Terima kasih \\ud83d\\ude4f\"\u001b[39;49;00m,\n",
            "  \u001b[94m\"reviewCreatedVersion\"\u001b[39;49;00m: \u001b[33m\"5.162.0\"\u001b[39;49;00m,\n",
            "  \u001b[94m\"reviewId\"\u001b[39;49;00m: \u001b[33m\"gp:AOqpTOG_vZVsXY1772g79iymPTBKwV2xmcTqh4bu4FwECyQD0SDcXC8OzMkc71vsp22fCZDze9FggvrsD-TxMUw\"\u001b[39;49;00m,\n",
            "  \u001b[94m\"score\"\u001b[39;49;00m: \u001b[34m1\u001b[39;49;00m,\n",
            "  \u001b[94m\"sortOrder\"\u001b[39;49;00m: \u001b[33m\"most_relevant\"\u001b[39;49;00m,\n",
            "  \u001b[94m\"thumbsUpCount\"\u001b[39;49;00m: \u001b[34m10\u001b[39;49;00m,\n",
            "  \u001b[94m\"userImage\"\u001b[39;49;00m: \u001b[33m\"https://play-lh.googleusercontent.com/a-/AOh14GgkXJU-KiBJrejGAhE6_u5ztEz_scw0Q4jfNS4eRg\"\u001b[39;49;00m,\n",
            "  \u001b[94m\"userName\"\u001b[39;49;00m: \u001b[33m\"Dylan Super EXe\"\u001b[39;49;00m\n",
            "}\n",
            "\n"
          ],
          "name": "stdout"
        }
      ]
    },
    {
      "cell_type": "code",
      "metadata": {
        "id": "kbef9CM66-cH"
      },
      "source": [
        "app_reviews_df = pd.DataFrame(app_reviews)\n",
        "\n",
        "app_reviews_df = app_reviews_df.sort_values([\"appId\",\"at\"])\n"
      ],
      "execution_count": 12,
      "outputs": []
    },
    {
      "cell_type": "code",
      "metadata": {
        "id": "L_K0oobB4khm"
      },
      "source": [
        "app_reviews_df.to_csv(path+'hasilreviews.csv', index=None, header=True)"
      ],
      "execution_count": 13,
      "outputs": []
    },
    {
      "cell_type": "code",
      "metadata": {
        "colab": {
          "base_uri": "https://localhost:8080/",
          "height": 419
        },
        "id": "TXn4k3K5D1xl",
        "outputId": "4c5fd34d-a058-475f-ab87-84f605fb5651"
      },
      "source": [
        "app_reviews_df.isnull()"
      ],
      "execution_count": 14,
      "outputs": [
        {
          "output_type": "execute_result",
          "data": {
            "text/html": [
              "<div>\n",
              "<style scoped>\n",
              "    .dataframe tbody tr th:only-of-type {\n",
              "        vertical-align: middle;\n",
              "    }\n",
              "\n",
              "    .dataframe tbody tr th {\n",
              "        vertical-align: top;\n",
              "    }\n",
              "\n",
              "    .dataframe thead th {\n",
              "        text-align: right;\n",
              "    }\n",
              "</style>\n",
              "<table border=\"1\" class=\"dataframe\">\n",
              "  <thead>\n",
              "    <tr style=\"text-align: right;\">\n",
              "      <th></th>\n",
              "      <th>reviewId</th>\n",
              "      <th>userName</th>\n",
              "      <th>userImage</th>\n",
              "      <th>content</th>\n",
              "      <th>score</th>\n",
              "      <th>thumbsUpCount</th>\n",
              "      <th>reviewCreatedVersion</th>\n",
              "      <th>at</th>\n",
              "      <th>replyContent</th>\n",
              "      <th>repliedAt</th>\n",
              "      <th>sortOrder</th>\n",
              "      <th>appId</th>\n",
              "    </tr>\n",
              "  </thead>\n",
              "  <tbody>\n",
              "    <tr>\n",
              "      <th>1761</th>\n",
              "      <td>False</td>\n",
              "      <td>False</td>\n",
              "      <td>False</td>\n",
              "      <td>False</td>\n",
              "      <td>False</td>\n",
              "      <td>False</td>\n",
              "      <td>False</td>\n",
              "      <td>False</td>\n",
              "      <td>False</td>\n",
              "      <td>False</td>\n",
              "      <td>False</td>\n",
              "      <td>False</td>\n",
              "    </tr>\n",
              "    <tr>\n",
              "      <th>1771</th>\n",
              "      <td>False</td>\n",
              "      <td>False</td>\n",
              "      <td>False</td>\n",
              "      <td>False</td>\n",
              "      <td>False</td>\n",
              "      <td>False</td>\n",
              "      <td>False</td>\n",
              "      <td>False</td>\n",
              "      <td>False</td>\n",
              "      <td>False</td>\n",
              "      <td>False</td>\n",
              "      <td>False</td>\n",
              "    </tr>\n",
              "    <tr>\n",
              "      <th>1735</th>\n",
              "      <td>False</td>\n",
              "      <td>False</td>\n",
              "      <td>False</td>\n",
              "      <td>False</td>\n",
              "      <td>False</td>\n",
              "      <td>False</td>\n",
              "      <td>False</td>\n",
              "      <td>False</td>\n",
              "      <td>False</td>\n",
              "      <td>False</td>\n",
              "      <td>False</td>\n",
              "      <td>False</td>\n",
              "    </tr>\n",
              "    <tr>\n",
              "      <th>1791</th>\n",
              "      <td>False</td>\n",
              "      <td>False</td>\n",
              "      <td>False</td>\n",
              "      <td>False</td>\n",
              "      <td>False</td>\n",
              "      <td>False</td>\n",
              "      <td>False</td>\n",
              "      <td>False</td>\n",
              "      <td>False</td>\n",
              "      <td>False</td>\n",
              "      <td>False</td>\n",
              "      <td>False</td>\n",
              "    </tr>\n",
              "    <tr>\n",
              "      <th>2075</th>\n",
              "      <td>False</td>\n",
              "      <td>False</td>\n",
              "      <td>False</td>\n",
              "      <td>False</td>\n",
              "      <td>False</td>\n",
              "      <td>False</td>\n",
              "      <td>False</td>\n",
              "      <td>False</td>\n",
              "      <td>True</td>\n",
              "      <td>True</td>\n",
              "      <td>False</td>\n",
              "      <td>False</td>\n",
              "    </tr>\n",
              "    <tr>\n",
              "      <th>...</th>\n",
              "      <td>...</td>\n",
              "      <td>...</td>\n",
              "      <td>...</td>\n",
              "      <td>...</td>\n",
              "      <td>...</td>\n",
              "      <td>...</td>\n",
              "      <td>...</td>\n",
              "      <td>...</td>\n",
              "      <td>...</td>\n",
              "      <td>...</td>\n",
              "      <td>...</td>\n",
              "      <td>...</td>\n",
              "    </tr>\n",
              "    <tr>\n",
              "      <th>1104</th>\n",
              "      <td>False</td>\n",
              "      <td>False</td>\n",
              "      <td>False</td>\n",
              "      <td>False</td>\n",
              "      <td>False</td>\n",
              "      <td>False</td>\n",
              "      <td>False</td>\n",
              "      <td>False</td>\n",
              "      <td>True</td>\n",
              "      <td>True</td>\n",
              "      <td>False</td>\n",
              "      <td>False</td>\n",
              "    </tr>\n",
              "    <tr>\n",
              "      <th>1103</th>\n",
              "      <td>False</td>\n",
              "      <td>False</td>\n",
              "      <td>False</td>\n",
              "      <td>False</td>\n",
              "      <td>False</td>\n",
              "      <td>False</td>\n",
              "      <td>True</td>\n",
              "      <td>False</td>\n",
              "      <td>True</td>\n",
              "      <td>True</td>\n",
              "      <td>False</td>\n",
              "      <td>False</td>\n",
              "    </tr>\n",
              "    <tr>\n",
              "      <th>1102</th>\n",
              "      <td>False</td>\n",
              "      <td>False</td>\n",
              "      <td>False</td>\n",
              "      <td>False</td>\n",
              "      <td>False</td>\n",
              "      <td>False</td>\n",
              "      <td>True</td>\n",
              "      <td>False</td>\n",
              "      <td>False</td>\n",
              "      <td>False</td>\n",
              "      <td>False</td>\n",
              "      <td>False</td>\n",
              "    </tr>\n",
              "    <tr>\n",
              "      <th>1101</th>\n",
              "      <td>False</td>\n",
              "      <td>False</td>\n",
              "      <td>False</td>\n",
              "      <td>False</td>\n",
              "      <td>False</td>\n",
              "      <td>False</td>\n",
              "      <td>False</td>\n",
              "      <td>False</td>\n",
              "      <td>True</td>\n",
              "      <td>True</td>\n",
              "      <td>False</td>\n",
              "      <td>False</td>\n",
              "    </tr>\n",
              "    <tr>\n",
              "      <th>1100</th>\n",
              "      <td>False</td>\n",
              "      <td>False</td>\n",
              "      <td>False</td>\n",
              "      <td>False</td>\n",
              "      <td>False</td>\n",
              "      <td>False</td>\n",
              "      <td>False</td>\n",
              "      <td>False</td>\n",
              "      <td>True</td>\n",
              "      <td>True</td>\n",
              "      <td>False</td>\n",
              "      <td>False</td>\n",
              "    </tr>\n",
              "  </tbody>\n",
              "</table>\n",
              "<p>2400 rows × 12 columns</p>\n",
              "</div>"
            ],
            "text/plain": [
              "      reviewId  userName  userImage  ...  repliedAt  sortOrder  appId\n",
              "1761     False     False      False  ...      False      False  False\n",
              "1771     False     False      False  ...      False      False  False\n",
              "1735     False     False      False  ...      False      False  False\n",
              "1791     False     False      False  ...      False      False  False\n",
              "2075     False     False      False  ...       True      False  False\n",
              "...        ...       ...        ...  ...        ...        ...    ...\n",
              "1104     False     False      False  ...       True      False  False\n",
              "1103     False     False      False  ...       True      False  False\n",
              "1102     False     False      False  ...      False      False  False\n",
              "1101     False     False      False  ...       True      False  False\n",
              "1100     False     False      False  ...       True      False  False\n",
              "\n",
              "[2400 rows x 12 columns]"
            ]
          },
          "metadata": {
            "tags": []
          },
          "execution_count": 14
        }
      ]
    },
    {
      "cell_type": "markdown",
      "metadata": {
        "id": "EhEJMBif6Nzp"
      },
      "source": [
        "#Monthly Average Rating"
      ]
    },
    {
      "cell_type": "code",
      "metadata": {
        "colab": {
          "base_uri": "https://localhost:8080/",
          "height": 0
        },
        "id": "F1emXIW1D_33",
        "outputId": "cc4d07ba-3bd9-4e99-a80b-24688200e30a"
      },
      "source": [
        "app_reviews_df.fillna(\"No Replay\", inplace=True)\n",
        "app_reviews_df.isnull()"
      ],
      "execution_count": 15,
      "outputs": [
        {
          "output_type": "execute_result",
          "data": {
            "text/html": [
              "<div>\n",
              "<style scoped>\n",
              "    .dataframe tbody tr th:only-of-type {\n",
              "        vertical-align: middle;\n",
              "    }\n",
              "\n",
              "    .dataframe tbody tr th {\n",
              "        vertical-align: top;\n",
              "    }\n",
              "\n",
              "    .dataframe thead th {\n",
              "        text-align: right;\n",
              "    }\n",
              "</style>\n",
              "<table border=\"1\" class=\"dataframe\">\n",
              "  <thead>\n",
              "    <tr style=\"text-align: right;\">\n",
              "      <th></th>\n",
              "      <th>reviewId</th>\n",
              "      <th>userName</th>\n",
              "      <th>userImage</th>\n",
              "      <th>content</th>\n",
              "      <th>score</th>\n",
              "      <th>thumbsUpCount</th>\n",
              "      <th>reviewCreatedVersion</th>\n",
              "      <th>at</th>\n",
              "      <th>replyContent</th>\n",
              "      <th>repliedAt</th>\n",
              "      <th>sortOrder</th>\n",
              "      <th>appId</th>\n",
              "    </tr>\n",
              "  </thead>\n",
              "  <tbody>\n",
              "    <tr>\n",
              "      <th>1761</th>\n",
              "      <td>False</td>\n",
              "      <td>False</td>\n",
              "      <td>False</td>\n",
              "      <td>False</td>\n",
              "      <td>False</td>\n",
              "      <td>False</td>\n",
              "      <td>False</td>\n",
              "      <td>False</td>\n",
              "      <td>False</td>\n",
              "      <td>False</td>\n",
              "      <td>False</td>\n",
              "      <td>False</td>\n",
              "    </tr>\n",
              "    <tr>\n",
              "      <th>1771</th>\n",
              "      <td>False</td>\n",
              "      <td>False</td>\n",
              "      <td>False</td>\n",
              "      <td>False</td>\n",
              "      <td>False</td>\n",
              "      <td>False</td>\n",
              "      <td>False</td>\n",
              "      <td>False</td>\n",
              "      <td>False</td>\n",
              "      <td>False</td>\n",
              "      <td>False</td>\n",
              "      <td>False</td>\n",
              "    </tr>\n",
              "    <tr>\n",
              "      <th>1735</th>\n",
              "      <td>False</td>\n",
              "      <td>False</td>\n",
              "      <td>False</td>\n",
              "      <td>False</td>\n",
              "      <td>False</td>\n",
              "      <td>False</td>\n",
              "      <td>False</td>\n",
              "      <td>False</td>\n",
              "      <td>False</td>\n",
              "      <td>False</td>\n",
              "      <td>False</td>\n",
              "      <td>False</td>\n",
              "    </tr>\n",
              "    <tr>\n",
              "      <th>1791</th>\n",
              "      <td>False</td>\n",
              "      <td>False</td>\n",
              "      <td>False</td>\n",
              "      <td>False</td>\n",
              "      <td>False</td>\n",
              "      <td>False</td>\n",
              "      <td>False</td>\n",
              "      <td>False</td>\n",
              "      <td>False</td>\n",
              "      <td>False</td>\n",
              "      <td>False</td>\n",
              "      <td>False</td>\n",
              "    </tr>\n",
              "    <tr>\n",
              "      <th>2075</th>\n",
              "      <td>False</td>\n",
              "      <td>False</td>\n",
              "      <td>False</td>\n",
              "      <td>False</td>\n",
              "      <td>False</td>\n",
              "      <td>False</td>\n",
              "      <td>False</td>\n",
              "      <td>False</td>\n",
              "      <td>False</td>\n",
              "      <td>False</td>\n",
              "      <td>False</td>\n",
              "      <td>False</td>\n",
              "    </tr>\n",
              "    <tr>\n",
              "      <th>...</th>\n",
              "      <td>...</td>\n",
              "      <td>...</td>\n",
              "      <td>...</td>\n",
              "      <td>...</td>\n",
              "      <td>...</td>\n",
              "      <td>...</td>\n",
              "      <td>...</td>\n",
              "      <td>...</td>\n",
              "      <td>...</td>\n",
              "      <td>...</td>\n",
              "      <td>...</td>\n",
              "      <td>...</td>\n",
              "    </tr>\n",
              "    <tr>\n",
              "      <th>1104</th>\n",
              "      <td>False</td>\n",
              "      <td>False</td>\n",
              "      <td>False</td>\n",
              "      <td>False</td>\n",
              "      <td>False</td>\n",
              "      <td>False</td>\n",
              "      <td>False</td>\n",
              "      <td>False</td>\n",
              "      <td>False</td>\n",
              "      <td>False</td>\n",
              "      <td>False</td>\n",
              "      <td>False</td>\n",
              "    </tr>\n",
              "    <tr>\n",
              "      <th>1103</th>\n",
              "      <td>False</td>\n",
              "      <td>False</td>\n",
              "      <td>False</td>\n",
              "      <td>False</td>\n",
              "      <td>False</td>\n",
              "      <td>False</td>\n",
              "      <td>False</td>\n",
              "      <td>False</td>\n",
              "      <td>False</td>\n",
              "      <td>False</td>\n",
              "      <td>False</td>\n",
              "      <td>False</td>\n",
              "    </tr>\n",
              "    <tr>\n",
              "      <th>1102</th>\n",
              "      <td>False</td>\n",
              "      <td>False</td>\n",
              "      <td>False</td>\n",
              "      <td>False</td>\n",
              "      <td>False</td>\n",
              "      <td>False</td>\n",
              "      <td>False</td>\n",
              "      <td>False</td>\n",
              "      <td>False</td>\n",
              "      <td>False</td>\n",
              "      <td>False</td>\n",
              "      <td>False</td>\n",
              "    </tr>\n",
              "    <tr>\n",
              "      <th>1101</th>\n",
              "      <td>False</td>\n",
              "      <td>False</td>\n",
              "      <td>False</td>\n",
              "      <td>False</td>\n",
              "      <td>False</td>\n",
              "      <td>False</td>\n",
              "      <td>False</td>\n",
              "      <td>False</td>\n",
              "      <td>False</td>\n",
              "      <td>False</td>\n",
              "      <td>False</td>\n",
              "      <td>False</td>\n",
              "    </tr>\n",
              "    <tr>\n",
              "      <th>1100</th>\n",
              "      <td>False</td>\n",
              "      <td>False</td>\n",
              "      <td>False</td>\n",
              "      <td>False</td>\n",
              "      <td>False</td>\n",
              "      <td>False</td>\n",
              "      <td>False</td>\n",
              "      <td>False</td>\n",
              "      <td>False</td>\n",
              "      <td>False</td>\n",
              "      <td>False</td>\n",
              "      <td>False</td>\n",
              "    </tr>\n",
              "  </tbody>\n",
              "</table>\n",
              "<p>2400 rows × 12 columns</p>\n",
              "</div>"
            ],
            "text/plain": [
              "      reviewId  userName  userImage  ...  repliedAt  sortOrder  appId\n",
              "1761     False     False      False  ...      False      False  False\n",
              "1771     False     False      False  ...      False      False  False\n",
              "1735     False     False      False  ...      False      False  False\n",
              "1791     False     False      False  ...      False      False  False\n",
              "2075     False     False      False  ...      False      False  False\n",
              "...        ...       ...        ...  ...        ...        ...    ...\n",
              "1104     False     False      False  ...      False      False  False\n",
              "1103     False     False      False  ...      False      False  False\n",
              "1102     False     False      False  ...      False      False  False\n",
              "1101     False     False      False  ...      False      False  False\n",
              "1100     False     False      False  ...      False      False  False\n",
              "\n",
              "[2400 rows x 12 columns]"
            ]
          },
          "metadata": {
            "tags": []
          },
          "execution_count": 15
        }
      ]
    },
    {
      "cell_type": "code",
      "metadata": {
        "id": "Zi3-8EN4ELUB"
      },
      "source": [
        "app_reviews_df = app_reviews_df.set_index('appId', inplace=False)\n",
        "\n",
        "app_reviews_gojek_df = app_reviews_df.loc['com.gojek.app']\n",
        "app_reviews_grab_df = app_reviews_df.loc['com.grabtaxi.passenger']"
      ],
      "execution_count": 16,
      "outputs": []
    },
    {
      "cell_type": "code",
      "metadata": {
        "colab": {
          "base_uri": "https://localhost:8080/"
        },
        "id": "oLBJZC9lEhmi",
        "outputId": "4349b71f-cd32-47c4-9c48-dede0bbc6ce3"
      },
      "source": [
        "print(app_reviews_gojek_df)\n",
        "print(app_reviews_grab_df)"
      ],
      "execution_count": 17,
      "outputs": [
        {
          "output_type": "stream",
          "text": [
            "                                                        reviewId  ...      sortOrder\n",
            "appId                                                             ...               \n",
            "com.gojek.app  gp:AOqpTOGSzXBeD-YFCiB4zM-04Dpxk_P3tkuTdGpVxES...  ...  most_relevant\n",
            "com.gojek.app  gp:AOqpTOFppJW7XsVsjlJRd9oZW1fUinXW6BBySA_lvI_...  ...  most_relevant\n",
            "com.gojek.app  gp:AOqpTOHfiS07yPfpSHc9mnfNDWYC4YbXcYKVMV0SogM...  ...  most_relevant\n",
            "com.gojek.app  gp:AOqpTOHMbXllzyG9YHRP5cXqBUZN7OHEuucHroV3H2b...  ...  most_relevant\n",
            "com.gojek.app  gp:AOqpTOEEesKuhu5dUOjh3aIyJ7BI2LvTCTVWTzNRx9b...  ...  most_relevant\n",
            "...                                                          ...  ...            ...\n",
            "com.gojek.app  gp:AOqpTOHBwaolssvlRVBTNJ4l7H2viCS04sTDaGtkltX...  ...         newest\n",
            "com.gojek.app  gp:AOqpTOGMJfywT7y161qLKd72l3wlwS92853ON5DyT6d...  ...         newest\n",
            "com.gojek.app  gp:AOqpTOGIOylTtQmr9S62heKaVtxcOAtsfuKDZsB5uIh...  ...         newest\n",
            "com.gojek.app  gp:AOqpTOELqZbXJChPUBYNerL_ScdcnzrvICkiK8Sibdk...  ...         newest\n",
            "com.gojek.app  gp:AOqpTOGg8tgh-dDztmR3kMdcc2UPxhmWP8YlCGFqxD8...  ...         newest\n",
            "\n",
            "[1200 rows x 11 columns]\n",
            "                                                                 reviewId  ...      sortOrder\n",
            "appId                                                                      ...               \n",
            "com.grabtaxi.passenger  gp:AOqpTOEneD4LgJcd6TeqlDD3fwf756v2mIhBPtSKlM0...  ...  most_relevant\n",
            "com.grabtaxi.passenger  gp:AOqpTOGK4r7NnRpYBzMnazHKNktNyKGK3PQbbQ6EJhN...  ...  most_relevant\n",
            "com.grabtaxi.passenger  gp:AOqpTOGd4ZosFx_flAaTX8jGQZSPXKFYu3JFY05KtpS...  ...  most_relevant\n",
            "com.grabtaxi.passenger  gp:AOqpTOHI-HsIHlrO5aabzF721ROVHYPaJyZSy-C2iX3...  ...  most_relevant\n",
            "com.grabtaxi.passenger  gp:AOqpTOEPhDtMexngYvuiCo-X_rS82Bt7Fof1Mzcidbd...  ...  most_relevant\n",
            "...                                                                   ...  ...            ...\n",
            "com.grabtaxi.passenger  gp:AOqpTOFNvskOxMj1dCVBS_cZs_gGiv8BczHw8jltozg...  ...         newest\n",
            "com.grabtaxi.passenger  gp:AOqpTOEHoX1Oz7YpncEBsIinLnlCrQPu7jfmnXZyhjc...  ...         newest\n",
            "com.grabtaxi.passenger  gp:AOqpTOHon5iqXOYvuqq7BWIWnlOS0PXCd5UAi1Yku8J...  ...         newest\n",
            "com.grabtaxi.passenger  gp:AOqpTOHB_8wRqUW6Efs8Re9cSuCc3wO0--ElCKQcL0a...  ...         newest\n",
            "com.grabtaxi.passenger  gp:AOqpTOEqMS4OBnHi6QQpvTeWHUeapHGsPjEOSle2O24...  ...         newest\n",
            "\n",
            "[1200 rows x 11 columns]\n"
          ],
          "name": "stdout"
        }
      ]
    },
    {
      "cell_type": "code",
      "metadata": {
        "colab": {
          "base_uri": "https://localhost:8080/"
        },
        "id": "wD1r0qLfEnTt",
        "outputId": "143680bd-6d6d-4dd9-8a2d-90de93f6a5b1"
      },
      "source": [
        "app_reviews_gojek_df.reset_index(level=0, inplace=True)\n",
        "app_reviews_grab_df.reset_index(level=0, inplace=True)\n",
        "\n",
        "print(app_reviews_gojek_df)\n",
        "print(app_reviews_grab_df)"
      ],
      "execution_count": 18,
      "outputs": [
        {
          "output_type": "stream",
          "text": [
            "              appId  ...      sortOrder\n",
            "0     com.gojek.app  ...  most_relevant\n",
            "1     com.gojek.app  ...  most_relevant\n",
            "2     com.gojek.app  ...  most_relevant\n",
            "3     com.gojek.app  ...  most_relevant\n",
            "4     com.gojek.app  ...  most_relevant\n",
            "...             ...  ...            ...\n",
            "1195  com.gojek.app  ...         newest\n",
            "1196  com.gojek.app  ...         newest\n",
            "1197  com.gojek.app  ...         newest\n",
            "1198  com.gojek.app  ...         newest\n",
            "1199  com.gojek.app  ...         newest\n",
            "\n",
            "[1200 rows x 12 columns]\n",
            "                       appId  ...      sortOrder\n",
            "0     com.grabtaxi.passenger  ...  most_relevant\n",
            "1     com.grabtaxi.passenger  ...  most_relevant\n",
            "2     com.grabtaxi.passenger  ...  most_relevant\n",
            "3     com.grabtaxi.passenger  ...  most_relevant\n",
            "4     com.grabtaxi.passenger  ...  most_relevant\n",
            "...                      ...  ...            ...\n",
            "1195  com.grabtaxi.passenger  ...         newest\n",
            "1196  com.grabtaxi.passenger  ...         newest\n",
            "1197  com.grabtaxi.passenger  ...         newest\n",
            "1198  com.grabtaxi.passenger  ...         newest\n",
            "1199  com.grabtaxi.passenger  ...         newest\n",
            "\n",
            "[1200 rows x 12 columns]\n"
          ],
          "name": "stdout"
        }
      ]
    },
    {
      "cell_type": "code",
      "metadata": {
        "colab": {
          "base_uri": "https://localhost:8080/"
        },
        "id": "n-r_Ys4NE2u-",
        "outputId": "5a011987-b867-42c4-a4d3-9e24cd6c78f9"
      },
      "source": [
        "print(app_reviews_gojek_df.info())"
      ],
      "execution_count": 19,
      "outputs": [
        {
          "output_type": "stream",
          "text": [
            "<class 'pandas.core.frame.DataFrame'>\n",
            "RangeIndex: 1200 entries, 0 to 1199\n",
            "Data columns (total 12 columns):\n",
            " #   Column                Non-Null Count  Dtype         \n",
            "---  ------                --------------  -----         \n",
            " 0   appId                 1200 non-null   object        \n",
            " 1   reviewId              1200 non-null   object        \n",
            " 2   userName              1200 non-null   object        \n",
            " 3   userImage             1200 non-null   object        \n",
            " 4   content               1200 non-null   object        \n",
            " 5   score                 1200 non-null   int64         \n",
            " 6   thumbsUpCount         1200 non-null   int64         \n",
            " 7   reviewCreatedVersion  1200 non-null   object        \n",
            " 8   at                    1200 non-null   datetime64[ns]\n",
            " 9   replyContent          1200 non-null   object        \n",
            " 10  repliedAt             1200 non-null   object        \n",
            " 11  sortOrder             1200 non-null   object        \n",
            "dtypes: datetime64[ns](1), int64(2), object(9)\n",
            "memory usage: 112.6+ KB\n",
            "None\n"
          ],
          "name": "stdout"
        }
      ]
    },
    {
      "cell_type": "code",
      "metadata": {
        "colab": {
          "base_uri": "https://localhost:8080/"
        },
        "id": "24fhoq7EE_ow",
        "outputId": "71e998dc-00a0-49f8-ac77-1e93d8f0a59c"
      },
      "source": [
        "app_reviews_gojek_mei = app_reviews_gojek_df[app_reviews_gojek_df['at'].dt.strftime('%Y-%m') == '2021-05']\n",
        "app_reviews_gojek_juni = app_reviews_gojek_df[app_reviews_gojek_df['at'].dt.strftime('%Y-%m') == '2021-06']\n",
        "app_reviews_gojek_juli = app_reviews_gojek_df[app_reviews_gojek_df['at'].dt.strftime('%Y-%m') == '2021-07']\n",
        "\n",
        "#membuat kolom baru\n",
        "app_reviews_gojek_mei[\"average_rating\"]  = app_reviews_gojek_mei[\"score\"].mean()\n",
        "app_reviews_gojek_juni[\"average_rating\"] = app_reviews_gojek_juni[\"score\"].mean()\n",
        "app_reviews_gojek_juli[\"average_rating\"] = app_reviews_gojek_juli[\"score\"].mean()\n",
        "\n",
        "print(app_reviews_gojek_mei['average_rating'])\n",
        "print(app_reviews_gojek_juni['average_rating'])\n",
        "print(app_reviews_gojek_juli['average_rating'])"
      ],
      "execution_count": 20,
      "outputs": [
        {
          "output_type": "stream",
          "text": [
            "0    3.222222\n",
            "1    3.222222\n",
            "2    3.222222\n",
            "3    3.222222\n",
            "4    3.222222\n",
            "5    3.222222\n",
            "6    3.222222\n",
            "7    3.222222\n",
            "8    3.222222\n",
            "Name: average_rating, dtype: float64\n",
            "9     3.283784\n",
            "10    3.283784\n",
            "11    3.283784\n",
            "12    3.283784\n",
            "13    3.283784\n",
            "        ...   \n",
            "78    3.283784\n",
            "79    3.283784\n",
            "80    3.283784\n",
            "81    3.283784\n",
            "82    3.283784\n",
            "Name: average_rating, Length: 74, dtype: float64\n",
            "83     3.273148\n",
            "84     3.273148\n",
            "85     3.273148\n",
            "86     3.273148\n",
            "87     3.273148\n",
            "         ...   \n",
            "294    3.273148\n",
            "295    3.273148\n",
            "296    3.273148\n",
            "297    3.273148\n",
            "298    3.273148\n",
            "Name: average_rating, Length: 216, dtype: float64\n"
          ],
          "name": "stdout"
        },
        {
          "output_type": "stream",
          "text": [
            "/usr/local/lib/python3.7/dist-packages/ipykernel_launcher.py:6: SettingWithCopyWarning: \n",
            "A value is trying to be set on a copy of a slice from a DataFrame.\n",
            "Try using .loc[row_indexer,col_indexer] = value instead\n",
            "\n",
            "See the caveats in the documentation: https://pandas.pydata.org/pandas-docs/stable/user_guide/indexing.html#returning-a-view-versus-a-copy\n",
            "  \n",
            "/usr/local/lib/python3.7/dist-packages/ipykernel_launcher.py:7: SettingWithCopyWarning: \n",
            "A value is trying to be set on a copy of a slice from a DataFrame.\n",
            "Try using .loc[row_indexer,col_indexer] = value instead\n",
            "\n",
            "See the caveats in the documentation: https://pandas.pydata.org/pandas-docs/stable/user_guide/indexing.html#returning-a-view-versus-a-copy\n",
            "  import sys\n",
            "/usr/local/lib/python3.7/dist-packages/ipykernel_launcher.py:8: SettingWithCopyWarning: \n",
            "A value is trying to be set on a copy of a slice from a DataFrame.\n",
            "Try using .loc[row_indexer,col_indexer] = value instead\n",
            "\n",
            "See the caveats in the documentation: https://pandas.pydata.org/pandas-docs/stable/user_guide/indexing.html#returning-a-view-versus-a-copy\n",
            "  \n"
          ],
          "name": "stderr"
        }
      ]
    },
    {
      "cell_type": "code",
      "metadata": {
        "colab": {
          "base_uri": "https://localhost:8080/"
        },
        "id": "Zsd05bGkFyDW",
        "outputId": "a2e536ba-9eea-4dac-cd26-dfc006a80ef0"
      },
      "source": [
        "app_reviews_grab_mei = app_reviews_grab_df[app_reviews_grab_df['at'].dt.strftime('%Y-%m') == '2021-05']\n",
        "app_reviews_grab_juni = app_reviews_grab_df[app_reviews_grab_df['at'].dt.strftime('%Y-%m') == '2021-06']\n",
        "app_reviews_grab_juli = app_reviews_grab_df[app_reviews_grab_df['at'].dt.strftime('%Y-%m') == '2021-07']\n",
        "\n",
        "#membuat kolom baru\n",
        "app_reviews_grab_mei[\"average_rating\"]  = app_reviews_grab_mei[\"score\"].mean()\n",
        "app_reviews_grab_juni[\"average_rating\"] = app_reviews_grab_juni[\"score\"].mean()\n",
        "app_reviews_grab_juli[\"average_rating\"] = app_reviews_grab_juli[\"score\"].mean()\n",
        "\n",
        "print(app_reviews_grab_mei['average_rating'])\n",
        "print(app_reviews_grab_juni['average_rating'])\n",
        "print(app_reviews_grab_juli['average_rating'])"
      ],
      "execution_count": 21,
      "outputs": [
        {
          "output_type": "stream",
          "text": [
            "0     3.033333\n",
            "1     3.033333\n",
            "2     3.033333\n",
            "3     3.033333\n",
            "4     3.033333\n",
            "5     3.033333\n",
            "6     3.033333\n",
            "7     3.033333\n",
            "8     3.033333\n",
            "9     3.033333\n",
            "10    3.033333\n",
            "11    3.033333\n",
            "12    3.033333\n",
            "13    3.033333\n",
            "14    3.033333\n",
            "15    3.033333\n",
            "16    3.033333\n",
            "17    3.033333\n",
            "18    3.033333\n",
            "19    3.033333\n",
            "20    3.033333\n",
            "21    3.033333\n",
            "22    3.033333\n",
            "23    3.033333\n",
            "24    3.033333\n",
            "25    3.033333\n",
            "26    3.033333\n",
            "27    3.033333\n",
            "28    3.033333\n",
            "29    3.033333\n",
            "Name: average_rating, dtype: float64\n",
            "30     3.016807\n",
            "31     3.016807\n",
            "32     3.016807\n",
            "33     3.016807\n",
            "34     3.016807\n",
            "         ...   \n",
            "144    3.016807\n",
            "145    3.016807\n",
            "146    3.016807\n",
            "147    3.016807\n",
            "148    3.016807\n",
            "Name: average_rating, Length: 119, dtype: float64\n",
            "149    3.038961\n",
            "150    3.038961\n",
            "151    3.038961\n",
            "152    3.038961\n",
            "153    3.038961\n",
            "         ...   \n",
            "375    3.038961\n",
            "376    3.038961\n",
            "377    3.038961\n",
            "378    3.038961\n",
            "379    3.038961\n",
            "Name: average_rating, Length: 231, dtype: float64\n"
          ],
          "name": "stdout"
        },
        {
          "output_type": "stream",
          "text": [
            "/usr/local/lib/python3.7/dist-packages/ipykernel_launcher.py:6: SettingWithCopyWarning: \n",
            "A value is trying to be set on a copy of a slice from a DataFrame.\n",
            "Try using .loc[row_indexer,col_indexer] = value instead\n",
            "\n",
            "See the caveats in the documentation: https://pandas.pydata.org/pandas-docs/stable/user_guide/indexing.html#returning-a-view-versus-a-copy\n",
            "  \n",
            "/usr/local/lib/python3.7/dist-packages/ipykernel_launcher.py:7: SettingWithCopyWarning: \n",
            "A value is trying to be set on a copy of a slice from a DataFrame.\n",
            "Try using .loc[row_indexer,col_indexer] = value instead\n",
            "\n",
            "See the caveats in the documentation: https://pandas.pydata.org/pandas-docs/stable/user_guide/indexing.html#returning-a-view-versus-a-copy\n",
            "  import sys\n",
            "/usr/local/lib/python3.7/dist-packages/ipykernel_launcher.py:8: SettingWithCopyWarning: \n",
            "A value is trying to be set on a copy of a slice from a DataFrame.\n",
            "Try using .loc[row_indexer,col_indexer] = value instead\n",
            "\n",
            "See the caveats in the documentation: https://pandas.pydata.org/pandas-docs/stable/user_guide/indexing.html#returning-a-view-versus-a-copy\n",
            "  \n"
          ],
          "name": "stderr"
        }
      ]
    },
    {
      "cell_type": "code",
      "metadata": {
        "id": "f-7wscIY7nCg"
      },
      "source": [
        "df_all_grab = pd.concat([app_reviews_grab_mei.iloc[0], app_reviews_grab_juni.iloc[0], app_reviews_grab_juli.iloc[0]])\n",
        "df_all_gojek = pd.concat([app_reviews_gojek_mei.iloc[0], app_reviews_gojek_juni.iloc[0], app_reviews_gojek_juli.iloc[0]])"
      ],
      "execution_count": 22,
      "outputs": []
    },
    {
      "cell_type": "code",
      "metadata": {
        "id": "Mse7mLSS8Z7z"
      },
      "source": [
        "df_new_plot = {\n",
        "    'Date':['May', \"June\", \"July\"],\n",
        "    'GrabScore': [round(df_all_grab.average_rating[0],2),round(df_all_grab.average_rating[1],2), round(df_all_grab.average_rating[2],2)],\n",
        "    'GojekScore': [round(df_all_gojek.average_rating[0],2),round(df_all_gojek.average_rating[1],2), round(df_all_gojek.average_rating[2],2)]\n",
        "}\n",
        "df_new_plot = pd.DataFrame(df_new_plot)"
      ],
      "execution_count": 23,
      "outputs": []
    },
    {
      "cell_type": "code",
      "metadata": {
        "colab": {
          "base_uri": "https://localhost:8080/"
        },
        "id": "YMaDySJC9CMw",
        "outputId": "9210e7d4-3911-4f05-ee7c-4b94fedf8b08"
      },
      "source": [
        "print(df_new_plot)"
      ],
      "execution_count": 24,
      "outputs": [
        {
          "output_type": "stream",
          "text": [
            "   Date  GrabScore  GojekScore\n",
            "0   May       3.03        3.22\n",
            "1  June       3.02        3.28\n",
            "2  July       3.04        3.27\n"
          ],
          "name": "stdout"
        }
      ]
    },
    {
      "cell_type": "code",
      "metadata": {
        "colab": {
          "base_uri": "https://localhost:8080/",
          "height": 0
        },
        "id": "94WyCNX09QXs",
        "outputId": "fb8f8e84-43a4-4a82-ae2f-736c3b23f2c0"
      },
      "source": [
        "fig = plt.figure(figsize=(20,16))\n",
        "plt.plot(df_new_plot.Date, df_new_plot.GrabScore, label=\"Grab\", color='orange', marker='o')\n",
        "plt.plot(df_new_plot.Date, df_new_plot.GojekScore, label=\"Gojek\", color='green', marker='o')\n",
        "plt.title('Rata-rata rating bulan mei - juli', fontsize=15, color='blue')\n",
        "plt.xlabel('Bulan', fontsize=12)\n",
        "plt.ylabel('rata-rata score', fontsize=12)\n",
        "\n",
        "\n",
        "def anotation_data(data_y, color_text):\n",
        "  for i,j in zip(df_new_plot.Date, data_y):\n",
        "    plt.annotate(str(j), xy=(i,j), color=color_text,\n",
        "                  fontsize='large', weight='normal',\n",
        "                  horizontalalignment = 'center',\n",
        "                 verticalalignment='bottom'\n",
        "                 )\n",
        "\n",
        "anotation_data(df_new_plot.GrabScore, 'orange')\n",
        "anotation_data(df_new_plot.GojekScore, 'green')\n",
        "\n",
        "plt.legend()\n",
        "plt.show()"
      ],
      "execution_count": 25,
      "outputs": [
        {
          "output_type": "display_data",
          "data": {
            "image/png": "[encoded data removed]",
            "text/plain": [
              "<Figure size 1440x1152 with 1 Axes>"
            ]
          },
          "metadata": {
            "tags": [],
            "needs_background": "light"
          }
        }
      ]
    },
    {
      "cell_type": "markdown",
      "metadata": {
        "id": "N9HrHufc6ZOw"
      },
      "source": [
        "# Weekly Average Rating"
      ]
    },
    {
      "cell_type": "code",
      "metadata": {
        "id": "aBjVzdCEGmyp"
      },
      "source": [
        "df = pd.DataFrame(app_reviews)\n",
        "df = df.set_index('appId', inplace=False)\n",
        "df = df.loc['com.grabtaxi.passenger']\n",
        "df.reset_index(level=0, inplace=True)\n",
        "\n",
        "df= df.sort_values([\"reviewCreatedVersion\"])"
      ],
      "execution_count": 26,
      "outputs": []
    },
    {
      "cell_type": "code",
      "metadata": {
        "colab": {
          "base_uri": "https://localhost:8080/"
        },
        "id": "MxrUZxLOHaNR",
        "outputId": "3c2b5ff3-cbdf-4dd6-d4f1-8335274fe8c3"
      },
      "source": [
        "print(df.head())"
      ],
      "execution_count": 27,
      "outputs": [
        {
          "output_type": "stream",
          "text": [
            "                      appId  ... sortOrder\n",
            "327  com.grabtaxi.passenger  ...    newest\n",
            "943  com.grabtaxi.passenger  ...    newest\n",
            "324  com.grabtaxi.passenger  ...    newest\n",
            "693  com.grabtaxi.passenger  ...    newest\n",
            "339  com.grabtaxi.passenger  ...    newest\n",
            "\n",
            "[5 rows x 12 columns]\n"
          ],
          "name": "stdout"
        }
      ]
    },
    {
      "cell_type": "code",
      "metadata": {
        "id": "xD0qc-MwH25t"
      },
      "source": [
        "df = df[[\"reviewCreatedVersion\", \"score\"]]"
      ],
      "execution_count": 28,
      "outputs": []
    },
    {
      "cell_type": "code",
      "metadata": {
        "colab": {
          "base_uri": "https://localhost:8080/"
        },
        "id": "kD1Q4oKMIK7x",
        "outputId": "c6196480-b2d1-4402-a9c5-da890a6858b3"
      },
      "source": [
        "print(df.head())"
      ],
      "execution_count": 29,
      "outputs": [
        {
          "output_type": "stream",
          "text": [
            "    reviewCreatedVersion  score\n",
            "327              5.104.0      2\n",
            "943              5.104.0      4\n",
            "324              5.109.0      2\n",
            "693              5.109.0      3\n",
            "339              5.110.0      2\n"
          ],
          "name": "stdout"
        }
      ]
    },
    {
      "cell_type": "code",
      "metadata": {
        "colab": {
          "base_uri": "https://localhost:8080/"
        },
        "id": "dMqBD6K8INvt",
        "outputId": "7ccf32c7-cd8f-47d8-b945-04a768bf1276"
      },
      "source": [
        "df.shape"
      ],
      "execution_count": 30,
      "outputs": [
        {
          "output_type": "execute_result",
          "data": {
            "text/plain": [
              "(1200, 2)"
            ]
          },
          "metadata": {
            "tags": []
          },
          "execution_count": 30
        }
      ]
    },
    {
      "cell_type": "code",
      "metadata": {
        "colab": {
          "base_uri": "https://localhost:8080/"
        },
        "id": "f3bpGkhWIWtX",
        "outputId": "158cbc45-ee4d-41c5-fefb-733d122c5a79"
      },
      "source": [
        "print(df.reviewCreatedVersion.unique())"
      ],
      "execution_count": 31,
      "outputs": [
        {
          "output_type": "stream",
          "text": [
            "['5.104.0' '5.109.0' '5.110.0' '5.111.0' '5.112.0' '5.114.0' '5.116.0'\n",
            " '5.118.0' '5.12.1' '5.120.0' '5.121.0' '5.126.0' '5.127.0' '5.128.2'\n",
            " '5.131.0' '5.132.0' '5.133.0' '5.134.0' '5.135.0' '5.136.0' '5.137.0'\n",
            " '5.139.1' '5.140.0' '5.141.0' '5.142.0' '5.143.0' '5.144.0' '5.145.0'\n",
            " '5.146.0' '5.147.0' '5.148.0' '5.149.1' '5.150.0' '5.151.0' '5.152.0'\n",
            " '5.153.0' '5.154.0' '5.155.0' '5.155.1' '5.156.0' '5.157.0' '5.158.0'\n",
            " '5.159.0' '5.160.0' '5.161.0' '5.162.0' '5.17.1' '5.23.1' '5.28.0'\n",
            " '5.33.0' '5.36.3' '5.41.0' '5.44.0' '5.50.0' '5.54.2' '5.57.0' '5.64.0'\n",
            " '5.69.1' '5.80.1' '5.84.1' '5.85.0' '5.86.0' '5.87.0' '5.88.0' '5.90.1'\n",
            " '5.95.1' '5.96.0' '5.98.0' None]\n"
          ],
          "name": "stdout"
        }
      ]
    },
    {
      "cell_type": "code",
      "metadata": {
        "colab": {
          "base_uri": "https://localhost:8080/"
        },
        "id": "tjNvqABTIg6o",
        "outputId": "7ec5b010-8a76-44af-c941-e97d2a5395ca"
      },
      "source": [
        "df.isna().sum()"
      ],
      "execution_count": 32,
      "outputs": [
        {
          "output_type": "execute_result",
          "data": {
            "text/plain": [
              "reviewCreatedVersion    149\n",
              "score                     0\n",
              "dtype: int64"
            ]
          },
          "metadata": {
            "tags": []
          },
          "execution_count": 32
        }
      ]
    },
    {
      "cell_type": "code",
      "metadata": {
        "id": "JfxIEHTcIlJv"
      },
      "source": [
        "df = df.dropna()"
      ],
      "execution_count": 33,
      "outputs": []
    },
    {
      "cell_type": "code",
      "metadata": {
        "colab": {
          "base_uri": "https://localhost:8080/"
        },
        "id": "UW7gO2AKIn3P",
        "outputId": "8a8adf61-38f7-4d5d-c192-98b7624b7f78"
      },
      "source": [
        "score = {}\n",
        "df_sementara  = df\n",
        "\n",
        "for k in df.reviewCreatedVersion.unique():\n",
        "  df_sementara = df[df['reviewCreatedVersion'] == k]\n",
        "  score[k] = df_sementara.score.mean()\n",
        "\n",
        "print(score)"
      ],
      "execution_count": 34,
      "outputs": [
        {
          "output_type": "stream",
          "text": [
            "{'5.104.0': 3.0, '5.109.0': 2.5, '5.110.0': 1.5, '5.111.0': 3.0, '5.112.0': 3.0, '5.114.0': 1.0, '5.116.0': 3.0, '5.118.0': 1.0, '5.12.1': 3.0, '5.120.0': 3.0, '5.121.0': 4.0, '5.126.0': 2.5, '5.127.0': 4.0, '5.128.2': 2.0, '5.131.0': 4.0, '5.132.0': 3.5, '5.133.0': 3.6666666666666665, '5.134.0': 2.0, '5.135.0': 2.0, '5.136.0': 3.0, '5.137.0': 3.125, '5.139.1': 1.0, '5.140.0': 2.0, '5.141.0': 3.2, '5.142.0': 3.6666666666666665, '5.143.0': 3.0, '5.144.0': 3.2, '5.145.0': 2.3333333333333335, '5.146.0': 3.0, '5.147.0': 2.911764705882353, '5.148.0': 3.0588235294117645, '5.149.1': 2.0, '5.150.0': 2.978723404255319, '5.151.0': 3.260869565217391, '5.152.0': 3.2, '5.153.0': 2.8285714285714287, '5.154.0': 2.625, '5.155.0': 2.769230769230769, '5.155.1': 2.903225806451613, '5.156.0': 3.0, '5.157.0': 3.054054054054054, '5.158.0': 3.1636363636363636, '5.159.0': 3.046979865771812, '5.160.0': 2.8930232558139535, '5.161.0': 3.226950354609929, '5.162.0': 3.2580645161290325, '5.17.1': 3.0, '5.23.1': 1.0, '5.28.0': 5.0, '5.33.0': 3.0, '5.36.3': 3.0, '5.41.0': 5.0, '5.44.0': 1.0, '5.50.0': 3.0, '5.54.2': 2.0, '5.57.0': 1.0, '5.64.0': 5.0, '5.69.1': 1.0, '5.80.1': 3.0, '5.84.1': 2.0, '5.85.0': 2.0, '5.86.0': 3.0, '5.87.0': 1.0, '5.88.0': 4.0, '5.90.1': 4.0, '5.95.1': 2.5, '5.96.0': 2.0, '5.98.0': 1.0}\n"
          ],
          "name": "stdout"
        }
      ]
    },
    {
      "cell_type": "code",
      "metadata": {
        "colab": {
          "base_uri": "https://localhost:8080/"
        },
        "id": "aE2JuYgCJG7w",
        "outputId": "1bf639eb-5e6b-433e-fc9f-36fe731037a8"
      },
      "source": [
        "df_score_grab_by_version = pd.DataFrame(score.items())\n",
        "print(df_score_grab_by_version.head(10))"
      ],
      "execution_count": 35,
      "outputs": [
        {
          "output_type": "stream",
          "text": [
            "         0    1\n",
            "0  5.104.0  3.0\n",
            "1  5.109.0  2.5\n",
            "2  5.110.0  1.5\n",
            "3  5.111.0  3.0\n",
            "4  5.112.0  3.0\n",
            "5  5.114.0  1.0\n",
            "6  5.116.0  3.0\n",
            "7  5.118.0  1.0\n",
            "8   5.12.1  3.0\n",
            "9  5.120.0  3.0\n"
          ],
          "name": "stdout"
        }
      ]
    },
    {
      "cell_type": "code",
      "metadata": {
        "colab": {
          "base_uri": "https://localhost:8080/",
          "height": 0
        },
        "id": "1qmG1ytSJQqM",
        "outputId": "ade0742f-19df-45c4-d486-706e2bb80a42"
      },
      "source": [
        "fig = plt.figure()\n",
        "ax = fig.add_axes([0,0,2,1])\n",
        "ax.bar(df_score_grab_by_version[0], df_score_grab_by_version[1])\n",
        "plt.show()"
      ],
      "execution_count": 36,
      "outputs": [
        {
          "output_type": "display_data",
          "data": {
            "image/png": "[encoded data removed]",
            "text/plain": [
              "<Figure size 432x288 with 1 Axes>"
            ]
          },
          "metadata": {
            "tags": [],
            "needs_background": "light"
          }
        }
      ]
    },
    {
      "cell_type": "code",
      "metadata": {
        "id": "XrT2PioqCycU"
      },
      "source": [
        "pembatas= int(len(df_score_grab_by_version[1])/3)\n",
        "firsthalf = df_score_grab_by_version.iloc[:pembatas]\n",
        "half = df_score_grab_by_version.iloc[pembatas:pembatas*2]\n",
        "lasthalf = df_score_grab_by_version.iloc[pembatas*2:pembatas*3]"
      ],
      "execution_count": 37,
      "outputs": []
    },
    {
      "cell_type": "code",
      "metadata": {
        "colab": {
          "base_uri": "https://localhost:8080/",
          "height": 0
        },
        "id": "oAva6x5PISU-",
        "outputId": "c100dd69-5b23-4add-fb7e-b4846cb0e49c"
      },
      "source": [
        "fig1 = plt.figure()\n",
        "ax = fig1.add_axes([0,0,2,1])\n",
        "ax.bar(firsthalf[0], firsthalf[1])\n",
        "plt.show()"
      ],
      "execution_count": 38,
      "outputs": [
        {
          "output_type": "display_data",
          "data": {
            "image/png": "[encoded data removed]",
            "text/plain": [
              "<Figure size 432x288 with 1 Axes>"
            ]
          },
          "metadata": {
            "tags": [],
            "needs_background": "light"
          }
        }
      ]
    },
    {
      "cell_type": "code",
      "metadata": {
        "colab": {
          "base_uri": "https://localhost:8080/",
          "height": 0
        },
        "id": "oJ42ntq3IpCy",
        "outputId": "10ae4789-0859-44c8-c7d0-8066ed7e92f3"
      },
      "source": [
        "fig2 = plt.figure()\n",
        "ax = fig2.add_axes([0,0,2,1])\n",
        "ax.bar(half[0], half[1])\n",
        "plt.show()"
      ],
      "execution_count": 39,
      "outputs": [
        {
          "output_type": "display_data",
          "data": {
            "image/png": "[encoded data removed]",
            "text/plain": [
              "<Figure size 432x288 with 1 Axes>"
            ]
          },
          "metadata": {
            "tags": [],
            "needs_background": "light"
          }
        }
      ]
    },
    {
      "cell_type": "code",
      "metadata": {
        "colab": {
          "base_uri": "https://localhost:8080/",
          "height": 0
        },
        "id": "pfzokJPmIsHt",
        "outputId": "1cdbd538-862d-44e3-f950-17890c2b4e53"
      },
      "source": [
        "fig3 = plt.figure()\n",
        "ax = fig3.add_axes([0,0,2,1])\n",
        "ax.bar(lasthalf[0], lasthalf[1])\n",
        "plt.show()"
      ],
      "execution_count": 40,
      "outputs": [
        {
          "output_type": "display_data",
          "data": {
            "image/png": "[encoded data removed]",
            "text/plain": [
              "<Figure size 432x288 with 1 Axes>"
            ]
          },
          "metadata": {
            "tags": [],
            "needs_background": "light"
          }
        }
      ]
    },
    {
      "cell_type": "code",
      "metadata": {
        "id": "Din-gbPqIvWc"
      },
      "source": [
        "fig1.savefig(path+'review1.pdf', bbox_inches='tight')\n",
        "fig2.savefig(path+'review2.pdf', bbox_inches='tight')\n",
        "fig3.savefig(path+'review3.pdf', bbox_inches='tight')"
      ],
      "execution_count": 41,
      "outputs": []
    },
    {
      "cell_type": "markdown",
      "metadata": {
        "id": "UDXfWhZC6fYZ"
      },
      "source": [
        "#Split DataFrame to Data train and test"
      ]
    },
    {
      "cell_type": "code",
      "metadata": {
        "id": "xTWRjJ4f3U42"
      },
      "source": [
        "df = pd.DataFrame(app_reviews)\n",
        "df = df.set_index('appId', inplace=False)\n",
        "df = df.loc['com.grabtaxi.passenger']\n",
        "df.reset_index(level=0, inplace=True)\n",
        "\n",
        "df = df[[\"content\", \"score\"]]\n"
      ],
      "execution_count": 42,
      "outputs": []
    },
    {
      "cell_type": "code",
      "metadata": {
        "colab": {
          "base_uri": "https://localhost:8080/"
        },
        "id": "dv__GrDS7RiX",
        "outputId": "71b3a968-a0bd-4cb0-a4e0-129d5e176dd3"
      },
      "source": [
        "df.isna().sum()"
      ],
      "execution_count": 43,
      "outputs": [
        {
          "output_type": "execute_result",
          "data": {
            "text/plain": [
              "content    0\n",
              "score      0\n",
              "dtype: int64"
            ]
          },
          "metadata": {
            "tags": []
          },
          "execution_count": 43
        }
      ]
    },
    {
      "cell_type": "code",
      "metadata": {
        "id": "eVPNxIzF7VUC"
      },
      "source": [
        "#sentimen jelek jika score < 3\n",
        "#sentimen baik jika score >3\n",
        "# score == 3 akan kita hilangkan\n",
        "\n",
        "df = df[df['score'] != 3]"
      ],
      "execution_count": 44,
      "outputs": []
    },
    {
      "cell_type": "code",
      "metadata": {
        "colab": {
          "base_uri": "https://localhost:8080/"
        },
        "id": "IgtzLOpE7sr6",
        "outputId": "35669f95-e033-4991-bb3c-f060744dcc48"
      },
      "source": [
        "df.isna().sum()"
      ],
      "execution_count": 45,
      "outputs": [
        {
          "output_type": "execute_result",
          "data": {
            "text/plain": [
              "content    0\n",
              "score      0\n",
              "dtype: int64"
            ]
          },
          "metadata": {
            "tags": []
          },
          "execution_count": 45
        }
      ]
    },
    {
      "cell_type": "code",
      "metadata": {
        "id": "TMyfPCLQ77zN"
      },
      "source": [
        "train, test = train_test_split(df, test_size = 0.2)"
      ],
      "execution_count": 46,
      "outputs": []
    },
    {
      "cell_type": "code",
      "metadata": {
        "colab": {
          "base_uri": "https://localhost:8080/"
        },
        "id": "MlQZ6d768O7T",
        "outputId": "192f4426-b68b-4070-c255-b5323d0b5daa"
      },
      "source": [
        "print(train.head())"
      ],
      "execution_count": 47,
      "outputs": [
        {
          "output_type": "stream",
          "text": [
            "                                                content  score\n",
            "948                                Mau coba pke apk ini      4\n",
            "1178      Jika naik grab selalu pelayanan yang terbaik.      5\n",
            "973                                               bagus      4\n",
            "61    Cacad, masuk kembali ke akun aja susah kali, v...      1\n",
            "52    Entah gx ada apa\" tiba\" gx bisa masuk akun tib...      1\n"
          ],
          "name": "stdout"
        }
      ]
    },
    {
      "cell_type": "code",
      "metadata": {
        "colab": {
          "base_uri": "https://localhost:8080/"
        },
        "id": "yg_cOTP78RQa",
        "outputId": "079dee1b-29aa-44d4-be03-dc005af5e315"
      },
      "source": [
        "print(test.head())"
      ],
      "execution_count": 48,
      "outputs": [
        {
          "output_type": "stream",
          "text": [
            "                                                content  score\n",
            "282   Min akun saya yg lama pake fb lama kata sandi ...      2\n",
            "895   Saya tidak bisa login, krn Akun Email sudah td...      4\n",
            "1115                                             Mygerb      5\n",
            "968                                                  ok      4\n",
            "314   Tolong infonya dong kenapa gabisa ganti nomer ...      2\n"
          ],
          "name": "stdout"
        }
      ]
    },
    {
      "cell_type": "markdown",
      "metadata": {
        "id": "o1bPD0nc6lGM"
      },
      "source": [
        "# Create Sentiment"
      ]
    },
    {
      "cell_type": "code",
      "metadata": {
        "id": "LL3so_QHFVt6",
        "colab": {
          "base_uri": "https://localhost:8080/"
        },
        "outputId": "e55451cf-cfd0-49fb-9f25-6623741a751a"
      },
      "source": [
        "train.loc[train.score > 3, 'sentiment'] = 1\n",
        "train.loc[train.score < 3, 'sentiment'] = 0"
      ],
      "execution_count": 49,
      "outputs": [
        {
          "output_type": "stream",
          "text": [
            "/usr/local/lib/python3.7/dist-packages/pandas/core/indexing.py:1596: SettingWithCopyWarning: \n",
            "A value is trying to be set on a copy of a slice from a DataFrame.\n",
            "Try using .loc[row_indexer,col_indexer] = value instead\n",
            "\n",
            "See the caveats in the documentation: https://pandas.pydata.org/pandas-docs/stable/user_guide/indexing.html#returning-a-view-versus-a-copy\n",
            "  self.obj[key] = _infer_fill_value(value)\n",
            "/usr/local/lib/python3.7/dist-packages/pandas/core/indexing.py:1763: SettingWithCopyWarning: \n",
            "A value is trying to be set on a copy of a slice from a DataFrame.\n",
            "Try using .loc[row_indexer,col_indexer] = value instead\n",
            "\n",
            "See the caveats in the documentation: https://pandas.pydata.org/pandas-docs/stable/user_guide/indexing.html#returning-a-view-versus-a-copy\n",
            "  isetter(loc, value)\n",
            "/usr/local/lib/python3.7/dist-packages/pandas/core/indexing.py:1763: SettingWithCopyWarning: \n",
            "A value is trying to be set on a copy of a slice from a DataFrame.\n",
            "Try using .loc[row_indexer,col_indexer] = value instead\n",
            "\n",
            "See the caveats in the documentation: https://pandas.pydata.org/pandas-docs/stable/user_guide/indexing.html#returning-a-view-versus-a-copy\n",
            "  isetter(loc, value)\n"
          ],
          "name": "stderr"
        }
      ]
    },
    {
      "cell_type": "code",
      "metadata": {
        "id": "nq9DchPLF0uc",
        "colab": {
          "base_uri": "https://localhost:8080/"
        },
        "outputId": "58c625b4-9014-4e00-c7c4-170a937a092b"
      },
      "source": [
        "test.loc[test.score >3, 'sentiment'] = 1\n",
        "test.loc[test.score <3, 'sentiment'] = 0"
      ],
      "execution_count": 50,
      "outputs": [
        {
          "output_type": "stream",
          "text": [
            "/usr/local/lib/python3.7/dist-packages/pandas/core/indexing.py:1596: SettingWithCopyWarning: \n",
            "A value is trying to be set on a copy of a slice from a DataFrame.\n",
            "Try using .loc[row_indexer,col_indexer] = value instead\n",
            "\n",
            "See the caveats in the documentation: https://pandas.pydata.org/pandas-docs/stable/user_guide/indexing.html#returning-a-view-versus-a-copy\n",
            "  self.obj[key] = _infer_fill_value(value)\n",
            "/usr/local/lib/python3.7/dist-packages/pandas/core/indexing.py:1763: SettingWithCopyWarning: \n",
            "A value is trying to be set on a copy of a slice from a DataFrame.\n",
            "Try using .loc[row_indexer,col_indexer] = value instead\n",
            "\n",
            "See the caveats in the documentation: https://pandas.pydata.org/pandas-docs/stable/user_guide/indexing.html#returning-a-view-versus-a-copy\n",
            "  isetter(loc, value)\n",
            "/usr/local/lib/python3.7/dist-packages/pandas/core/indexing.py:1763: SettingWithCopyWarning: \n",
            "A value is trying to be set on a copy of a slice from a DataFrame.\n",
            "Try using .loc[row_indexer,col_indexer] = value instead\n",
            "\n",
            "See the caveats in the documentation: https://pandas.pydata.org/pandas-docs/stable/user_guide/indexing.html#returning-a-view-versus-a-copy\n",
            "  isetter(loc, value)\n"
          ],
          "name": "stderr"
        }
      ]
    },
    {
      "cell_type": "code",
      "metadata": {
        "colab": {
          "base_uri": "https://localhost:8080/",
          "height": 0
        },
        "id": "Lw4Q9cHrF9tx",
        "outputId": "b164bc86-9ffc-4e2b-dd08-f798954d2b97"
      },
      "source": [
        "plot = sns.barplot(y = train.sentiment.value_counts(), x= train.sentiment.value_counts().index)"
      ],
      "execution_count": 51,
      "outputs": [
        {
          "output_type": "display_data",
          "data": {
            "image/png": "[encoded data removed]",
            "text/plain": [
              "<Figure size 432x288 with 1 Axes>"
            ]
          },
          "metadata": {
            "tags": [],
            "needs_background": "light"
          }
        }
      ]
    },
    {
      "cell_type": "code",
      "metadata": {
        "colab": {
          "base_uri": "https://localhost:8080/",
          "height": 0
        },
        "id": "nb5l9HmNGSOO",
        "outputId": "04adf201-7652-4cf2-e775-1d4e21f900a0"
      },
      "source": [
        "plot = sns.barplot(y = test.sentiment.value_counts(), x= test.sentiment.value_counts().index)"
      ],
      "execution_count": 52,
      "outputs": [
        {
          "output_type": "display_data",
          "data": {
            "image/png": "[encoded data removed]",
            "text/plain": [
              "<Figure size 432x288 with 1 Axes>"
            ]
          },
          "metadata": {
            "tags": [],
            "needs_background": "light"
          }
        }
      ]
    },
    {
      "cell_type": "code",
      "metadata": {
        "id": "hESVHvRLGqwa"
      },
      "source": [
        "def cleansing(text):\n",
        "  word_list = word_tokenize(text)\n",
        "  word_list =[word for word in word_list if len(word) > 2 and word.isalnum() ]\n",
        "  word_list = [word for word in word_list if string.punctuation not in word]\n",
        "  text = ' '.join(word_list)\n",
        "\n",
        "  return text"
      ],
      "execution_count": 53,
      "outputs": []
    },
    {
      "cell_type": "code",
      "metadata": {
        "id": "quw8yCs6Hkof"
      },
      "source": [
        "pd.options.mode.chained_assignment = None  # default='warn'"
      ],
      "execution_count": 54,
      "outputs": []
    },
    {
      "cell_type": "code",
      "metadata": {
        "id": "dbuNicBhHVA5"
      },
      "source": [
        "train['content_cleansing'] = train.content.apply(cleansing)\n",
        "test['content_cleansing'] = test.content.apply(cleansing)"
      ],
      "execution_count": 55,
      "outputs": []
    },
    {
      "cell_type": "code",
      "metadata": {
        "colab": {
          "base_uri": "https://localhost:8080/"
        },
        "id": "BaTU3vLrHqqX",
        "outputId": "8ed77729-5e52-465f-e8cf-20fdd74400ff"
      },
      "source": [
        "print(train.content_cleansing)"
      ],
      "execution_count": 56,
      "outputs": [
        {
          "output_type": "stream",
          "text": [
            "948                                  Mau coba pke apk ini\n",
            "1178         Jika naik grab selalu pelayanan yang terbaik\n",
            "973                                                 bagus\n",
            "61      Cacad masuk kembali akun aja susah kali verifi...\n",
            "52      Entah ada apa tiba bisa masuk akun tiba akun d...\n",
            "                              ...                        \n",
            "156     Akun saya tiba bekukan tanpa alasan jelas Pada...\n",
            "312                     Konsultasi dokter lama respon nya\n",
            "1005    Suka dgn layanannya memudahkan segalanya Lebih...\n",
            "38      Aplikasi jelas akun cuma buat pesen makan doan...\n",
            "1198                                       Aplikasi bagus\n",
            "Name: content_cleansing, Length: 640, dtype: object\n"
          ],
          "name": "stdout"
        }
      ]
    },
    {
      "cell_type": "code",
      "metadata": {
        "colab": {
          "base_uri": "https://localhost:8080/"
        },
        "id": "zuKVeF0PH113",
        "outputId": "c1eb6364-5948-4e78-c9ac-a659aff204ed"
      },
      "source": [
        "train.isna().sum()"
      ],
      "execution_count": 57,
      "outputs": [
        {
          "output_type": "execute_result",
          "data": {
            "text/plain": [
              "content              0\n",
              "score                0\n",
              "sentiment            0\n",
              "content_cleansing    0\n",
              "dtype: int64"
            ]
          },
          "metadata": {
            "tags": []
          },
          "execution_count": 57
        }
      ]
    },
    {
      "cell_type": "code",
      "metadata": {
        "id": "OF9l4RAbH6qD",
        "colab": {
          "base_uri": "https://localhost:8080/"
        },
        "outputId": "ef31b3d3-88b7-435e-eede-7c33a8256679"
      },
      "source": [
        "test.isna().sum()"
      ],
      "execution_count": 58,
      "outputs": [
        {
          "output_type": "execute_result",
          "data": {
            "text/plain": [
              "content              0\n",
              "score                0\n",
              "sentiment            0\n",
              "content_cleansing    0\n",
              "dtype: int64"
            ]
          },
          "metadata": {
            "tags": []
          },
          "execution_count": 58
        }
      ]
    },
    {
      "cell_type": "markdown",
      "metadata": {
        "id": "PHVrqp0G60yA"
      },
      "source": [
        "# Extraction"
      ]
    },
    {
      "cell_type": "code",
      "metadata": {
        "id": "Kl7DDF_O6w3p"
      },
      "source": [
        "cv = CountVectorizer()\n",
        "X_train = cv.fit_transform(train.content_cleansing)\n",
        "X_test = cv.transform(test.content_cleansing)"
      ],
      "execution_count": 59,
      "outputs": []
    },
    {
      "cell_type": "markdown",
      "metadata": {
        "id": "sDfMcgrx64pK"
      },
      "source": [
        "#Model"
      ]
    },
    {
      "cell_type": "code",
      "metadata": {
        "id": "RX-yLRax2_qx"
      },
      "source": [
        "#Model\n",
        "model_mnb = MultinomialNB()\n",
        "model_mnb.fit(X_train, train.sentiment)\n",
        "y_pred = model_mnb.predict(X_test)\n",
        "y_pred = y_pred.astype(np.int16)"
      ],
      "execution_count": 60,
      "outputs": []
    },
    {
      "cell_type": "markdown",
      "metadata": {
        "id": "YI1eKnr83UGr"
      },
      "source": [
        "#Eval"
      ]
    },
    {
      "cell_type": "code",
      "metadata": {
        "colab": {
          "base_uri": "https://localhost:8080/"
        },
        "id": "MoP_4PxID_ze",
        "outputId": "cd232e14-38ca-4513-fb8f-9dd12045785e"
      },
      "source": [
        "accuracy_score(test.sentiment, y_pred)"
      ],
      "execution_count": 63,
      "outputs": [
        {
          "output_type": "execute_result",
          "data": {
            "text/plain": [
              "0.8375"
            ]
          },
          "metadata": {
            "tags": []
          },
          "execution_count": 63
        }
      ]
    },
    {
      "cell_type": "code",
      "metadata": {
        "colab": {
          "base_uri": "https://localhost:8080/"
        },
        "id": "5VtABFg23U5x",
        "outputId": "16667dc5-0217-4fbb-cac9-6b7e9975e6c2"
      },
      "source": [
        "f1_score(test.sentiment.astype(np.int16), y_pred)"
      ],
      "execution_count": 64,
      "outputs": [
        {
          "output_type": "execute_result",
          "data": {
            "text/plain": [
              "0.8169014084507042"
            ]
          },
          "metadata": {
            "tags": []
          },
          "execution_count": 64
        }
      ]
    },
    {
      "cell_type": "code",
      "metadata": {
        "colab": {
          "base_uri": "https://localhost:8080/"
        },
        "id": "aNDyyeXU44EA",
        "outputId": "41a16e53-1a6f-4b37-edfb-8da0c38415e4"
      },
      "source": [
        "precision_score(test.sentiment, y_pred)"
      ],
      "execution_count": 66,
      "outputs": [
        {
          "output_type": "execute_result",
          "data": {
            "text/plain": [
              "0.8923076923076924"
            ]
          },
          "metadata": {
            "tags": []
          },
          "execution_count": 66
        }
      ]
    },
    {
      "cell_type": "code",
      "metadata": {
        "colab": {
          "base_uri": "https://localhost:8080/"
        },
        "id": "PQICy7B-48p4",
        "outputId": "6b86630b-eb5a-44a7-834c-76605eb1ed0d"
      },
      "source": [
        "recall_score(test.sentiment, y_pred)"
      ],
      "execution_count": 67,
      "outputs": [
        {
          "output_type": "execute_result",
          "data": {
            "text/plain": [
              "0.7532467532467533"
            ]
          },
          "metadata": {
            "tags": []
          },
          "execution_count": 67
        }
      ]
    },
    {
      "cell_type": "code",
      "metadata": {
        "colab": {
          "base_uri": "https://localhost:8080/"
        },
        "id": "cOp4lq2b5Gow",
        "outputId": "e7a204b9-8a50-411c-f93a-e015ad01a81a"
      },
      "source": [
        "y_pred"
      ],
      "execution_count": 68,
      "outputs": [
        {
          "output_type": "execute_result",
          "data": {
            "text/plain": [
              "array([0, 0, 1, 1, 0, 1, 0, 1, 0, 1, 1, 0, 0, 0, 0, 0, 1, 1, 0, 1, 1, 0,\n",
              "       1, 1, 0, 0, 1, 0, 0, 1, 0, 1, 1, 0, 0, 0, 1, 0, 0, 0, 1, 1, 0, 0,\n",
              "       0, 1, 0, 1, 0, 0, 0, 1, 1, 1, 0, 1, 0, 0, 1, 1, 1, 0, 1, 0, 0, 0,\n",
              "       1, 0, 1, 0, 1, 1, 1, 0, 0, 0, 0, 0, 0, 0, 0, 1, 1, 1, 0, 0, 1, 1,\n",
              "       0, 0, 1, 0, 0, 1, 0, 0, 1, 0, 1, 0, 1, 0, 1, 1, 0, 1, 0, 1, 0, 1,\n",
              "       0, 0, 1, 0, 1, 0, 0, 1, 0, 0, 1, 0, 0, 0, 0, 1, 0, 1, 1, 0, 0, 0,\n",
              "       0, 0, 1, 1, 0, 0, 0, 0, 0, 0, 0, 1, 0, 0, 0, 0, 0, 0, 1, 1, 0, 0,\n",
              "       1, 0, 1, 0, 1, 1], dtype=int16)"
            ]
          },
          "metadata": {
            "tags": []
          },
          "execution_count": 68
        }
      ]
    },
    {
      "cell_type": "code",
      "metadata": {
        "colab": {
          "base_uri": "https://localhost:8080/"
        },
        "id": "svV0FbO75Bf9",
        "outputId": "ec8b7885-d933-470e-afa0-36ff0fbe8ca3"
      },
      "source": [
        "confusion_matrix(test.sentiment, y_pred, labels= [0,1])"
      ],
      "execution_count": 69,
      "outputs": [
        {
          "output_type": "execute_result",
          "data": {
            "text/plain": [
              "array([[76,  7],\n",
              "       [19, 58]])"
            ]
          },
          "metadata": {
            "tags": []
          },
          "execution_count": 69
        }
      ]
    },
    {
      "cell_type": "code",
      "metadata": {
        "colab": {
          "base_uri": "https://localhost:8080/"
        },
        "id": "NTkLV6u05Koi",
        "outputId": "460a9b0b-fe58-4146-be14-5567efc1f18b"
      },
      "source": [
        "test.sentiment.value_counts()"
      ],
      "execution_count": 70,
      "outputs": [
        {
          "output_type": "execute_result",
          "data": {
            "text/plain": [
              "0.0    83\n",
              "1.0    77\n",
              "Name: sentiment, dtype: int64"
            ]
          },
          "metadata": {
            "tags": []
          },
          "execution_count": 70
        }
      ]
    }
  ]
}